{
  "nbformat": 4,
  "nbformat_minor": 0,
  "metadata": {
    "colab": {
      "name": "sds_project",
      "provenance": [],
      "collapsed_sections": [],
      "include_colab_link": true
    },
    "kernelspec": {
      "name": "python3",
      "display_name": "Python 3"
    }
  },
  "cells": [
    {
      "cell_type": "markdown",
      "metadata": {
        "id": "view-in-github",
        "colab_type": "text"
      },
      "source": [
        "<a href=\"https://colab.research.google.com/github/AmulyaDinesh/Bank-Customer-Segmentation/blob/main/sds_project.ipynb\" target=\"_parent\"><img src=\"https://colab.research.google.com/assets/colab-badge.svg\" alt=\"Open In Colab\"/></a>"
      ]
    },
    {
      "cell_type": "code",
      "metadata": {
        "id": "OVFrdpax96O8",
        "colab": {
          "resources": {
            "http://localhost:8080/nbextensions/google.colab/files.js": {
              "data": "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",
              "ok": true,
              "headers": [
                [
                  "content-type",
                  "application/javascript"
                ]
              ],
              "status": 200,
              "status_text": ""
            }
          },
          "base_uri": "https://localhost:8080/",
          "height": 73
        },
        "outputId": "3579a377-2beb-4e46-c66b-91c75026a68c"
      },
      "source": [
        "import pandas as pd\n",
        "import matplotlib.pyplot as pld\n",
        "import seaborn as sns\n",
        "from google.colab import files\n",
        "uploaded=files.upload()\n",
        "data=pd.read_csv(\"bank_customer_segmentation.csv\")"
      ],
      "execution_count": null,
      "outputs": [
        {
          "output_type": "display_data",
          "data": {
            "text/html": [
              "\n",
              "     <input type=\"file\" id=\"files-fd45555d-da7b-4f23-a537-4de308a84cb1\" name=\"files[]\" multiple disabled\n",
              "        style=\"border:none\" />\n",
              "     <output id=\"result-fd45555d-da7b-4f23-a537-4de308a84cb1\">\n",
              "      Upload widget is only available when the cell has been executed in the\n",
              "      current browser session. Please rerun this cell to enable.\n",
              "      </output>\n",
              "      <script src=\"/nbextensions/google.colab/files.js\"></script> "
            ],
            "text/plain": [
              "<IPython.core.display.HTML object>"
            ]
          },
          "metadata": {
            "tags": []
          }
        },
        {
          "output_type": "stream",
          "text": [
            "Saving bank_customer_segmentation.csv to bank_customer_segmentation (2).csv\n"
          ],
          "name": "stdout"
        }
      ]
    },
    {
      "cell_type": "code",
      "metadata": {
        "id": "eGnVKR9xPsAT",
        "colab": {
          "base_uri": "https://localhost:8080/"
        },
        "outputId": "39c1202d-de5f-449b-ac69-40b6883cd2b4"
      },
      "source": [
        "data.info()"
      ],
      "execution_count": null,
      "outputs": [
        {
          "output_type": "stream",
          "text": [
            "<class 'pandas.core.frame.DataFrame'>\n",
            "RangeIndex: 28382 entries, 0 to 28381\n",
            "Data columns (total 21 columns):\n",
            " #   Column                          Non-Null Count  Dtype  \n",
            "---  ------                          --------------  -----  \n",
            " 0   customer_id                     28382 non-null  int64  \n",
            " 1   vintage                         28382 non-null  int64  \n",
            " 2   age                             28382 non-null  int64  \n",
            " 3   gender                          27857 non-null  object \n",
            " 4   dependents                      25919 non-null  float64\n",
            " 5   occupation                      28302 non-null  object \n",
            " 6   city                            27579 non-null  float64\n",
            " 7   customer_nw_category            28382 non-null  int64  \n",
            " 8   branch_code                     28382 non-null  int64  \n",
            " 9   days_since_last_transaction     25159 non-null  float64\n",
            " 10  current_balance                 28382 non-null  float64\n",
            " 11  previous_month_end_balance      28382 non-null  float64\n",
            " 12  average_monthly_balance_prevQ   28382 non-null  float64\n",
            " 13  average_monthly_balance_prevQ2  28382 non-null  float64\n",
            " 14  current_month_credit            28382 non-null  float64\n",
            " 15  previous_month_credit           28382 non-null  float64\n",
            " 16  current_month_debit             28382 non-null  float64\n",
            " 17  previous_month_debit            28382 non-null  float64\n",
            " 18  current_month_balance           28382 non-null  float64\n",
            " 19  previous_month_balance          28382 non-null  float64\n",
            " 20  churn                           28382 non-null  int64  \n",
            "dtypes: float64(13), int64(6), object(2)\n",
            "memory usage: 4.5+ MB\n"
          ],
          "name": "stdout"
        }
      ]
    },
    {
      "cell_type": "code",
      "metadata": {
        "colab": {
          "base_uri": "https://localhost:8080/"
        },
        "id": "39nEWMcZvujw",
        "outputId": "a6271b98-17e9-4c6f-fd11-ea3f6f96a5fa"
      },
      "source": [
        "from google.colab import drive\n",
        "drive.mount('/content/drive')"
      ],
      "execution_count": 1,
      "outputs": [
        {
          "output_type": "stream",
          "text": [
            "Mounted at /content/drive\n"
          ],
          "name": "stdout"
        }
      ]
    },
    {
      "cell_type": "code",
      "metadata": {
        "id": "eiX1uTGyPkwD",
        "colab": {
          "base_uri": "https://localhost:8080/",
          "height": 215
        },
        "outputId": "11899c6f-3329-4b61-b1f2-46c95f56e5c4"
      },
      "source": [
        "data.head()"
      ],
      "execution_count": null,
      "outputs": [
        {
          "output_type": "execute_result",
          "data": {
            "text/html": [
              "<div>\n",
              "<style scoped>\n",
              "    .dataframe tbody tr th:only-of-type {\n",
              "        vertical-align: middle;\n",
              "    }\n",
              "\n",
              "    .dataframe tbody tr th {\n",
              "        vertical-align: top;\n",
              "    }\n",
              "\n",
              "    .dataframe thead th {\n",
              "        text-align: right;\n",
              "    }\n",
              "</style>\n",
              "<table border=\"1\" class=\"dataframe\">\n",
              "  <thead>\n",
              "    <tr style=\"text-align: right;\">\n",
              "      <th></th>\n",
              "      <th>customer_id</th>\n",
              "      <th>vintage</th>\n",
              "      <th>age</th>\n",
              "      <th>gender</th>\n",
              "      <th>dependents</th>\n",
              "      <th>occupation</th>\n",
              "      <th>city</th>\n",
              "      <th>customer_nw_category</th>\n",
              "      <th>branch_code</th>\n",
              "      <th>days_since_last_transaction</th>\n",
              "      <th>current_balance</th>\n",
              "      <th>previous_month_end_balance</th>\n",
              "      <th>average_monthly_balance_prevQ</th>\n",
              "      <th>average_monthly_balance_prevQ2</th>\n",
              "      <th>current_month_credit</th>\n",
              "      <th>previous_month_credit</th>\n",
              "      <th>current_month_debit</th>\n",
              "      <th>previous_month_debit</th>\n",
              "      <th>current_month_balance</th>\n",
              "      <th>previous_month_balance</th>\n",
              "      <th>churn</th>\n",
              "    </tr>\n",
              "  </thead>\n",
              "  <tbody>\n",
              "    <tr>\n",
              "      <th>0</th>\n",
              "      <td>1</td>\n",
              "      <td>3135</td>\n",
              "      <td>66</td>\n",
              "      <td>Male</td>\n",
              "      <td>0.0</td>\n",
              "      <td>self_employed</td>\n",
              "      <td>187.0</td>\n",
              "      <td>2</td>\n",
              "      <td>755</td>\n",
              "      <td>224.0</td>\n",
              "      <td>1458.71</td>\n",
              "      <td>1458.71</td>\n",
              "      <td>1458.71</td>\n",
              "      <td>1449.07</td>\n",
              "      <td>0.20</td>\n",
              "      <td>0.20</td>\n",
              "      <td>0.20</td>\n",
              "      <td>0.20</td>\n",
              "      <td>1458.71</td>\n",
              "      <td>1458.71</td>\n",
              "      <td>0</td>\n",
              "    </tr>\n",
              "    <tr>\n",
              "      <th>1</th>\n",
              "      <td>2</td>\n",
              "      <td>310</td>\n",
              "      <td>35</td>\n",
              "      <td>Male</td>\n",
              "      <td>0.0</td>\n",
              "      <td>self_employed</td>\n",
              "      <td>NaN</td>\n",
              "      <td>2</td>\n",
              "      <td>3214</td>\n",
              "      <td>60.0</td>\n",
              "      <td>5390.37</td>\n",
              "      <td>8704.66</td>\n",
              "      <td>7799.26</td>\n",
              "      <td>12419.41</td>\n",
              "      <td>0.56</td>\n",
              "      <td>0.56</td>\n",
              "      <td>5486.27</td>\n",
              "      <td>100.56</td>\n",
              "      <td>6496.78</td>\n",
              "      <td>8787.61</td>\n",
              "      <td>0</td>\n",
              "    </tr>\n",
              "    <tr>\n",
              "      <th>2</th>\n",
              "      <td>4</td>\n",
              "      <td>2356</td>\n",
              "      <td>31</td>\n",
              "      <td>Male</td>\n",
              "      <td>0.0</td>\n",
              "      <td>salaried</td>\n",
              "      <td>146.0</td>\n",
              "      <td>2</td>\n",
              "      <td>41</td>\n",
              "      <td>NaN</td>\n",
              "      <td>3913.16</td>\n",
              "      <td>5815.29</td>\n",
              "      <td>4910.17</td>\n",
              "      <td>2815.94</td>\n",
              "      <td>0.61</td>\n",
              "      <td>0.61</td>\n",
              "      <td>6046.73</td>\n",
              "      <td>259.23</td>\n",
              "      <td>5006.28</td>\n",
              "      <td>5070.14</td>\n",
              "      <td>0</td>\n",
              "    </tr>\n",
              "    <tr>\n",
              "      <th>3</th>\n",
              "      <td>5</td>\n",
              "      <td>478</td>\n",
              "      <td>90</td>\n",
              "      <td>NaN</td>\n",
              "      <td>NaN</td>\n",
              "      <td>self_employed</td>\n",
              "      <td>1020.0</td>\n",
              "      <td>2</td>\n",
              "      <td>582</td>\n",
              "      <td>147.0</td>\n",
              "      <td>2291.91</td>\n",
              "      <td>2291.91</td>\n",
              "      <td>2084.54</td>\n",
              "      <td>1006.54</td>\n",
              "      <td>0.47</td>\n",
              "      <td>0.47</td>\n",
              "      <td>0.47</td>\n",
              "      <td>2143.33</td>\n",
              "      <td>2291.91</td>\n",
              "      <td>1669.79</td>\n",
              "      <td>1</td>\n",
              "    </tr>\n",
              "    <tr>\n",
              "      <th>4</th>\n",
              "      <td>6</td>\n",
              "      <td>2531</td>\n",
              "      <td>42</td>\n",
              "      <td>Male</td>\n",
              "      <td>2.0</td>\n",
              "      <td>self_employed</td>\n",
              "      <td>1494.0</td>\n",
              "      <td>3</td>\n",
              "      <td>388</td>\n",
              "      <td>58.0</td>\n",
              "      <td>927.72</td>\n",
              "      <td>1401.72</td>\n",
              "      <td>1643.31</td>\n",
              "      <td>1871.12</td>\n",
              "      <td>0.33</td>\n",
              "      <td>714.61</td>\n",
              "      <td>588.62</td>\n",
              "      <td>1538.06</td>\n",
              "      <td>1157.15</td>\n",
              "      <td>1677.16</td>\n",
              "      <td>1</td>\n",
              "    </tr>\n",
              "  </tbody>\n",
              "</table>\n",
              "</div>"
            ],
            "text/plain": [
              "   customer_id  vintage  ...  previous_month_balance churn\n",
              "0            1     3135  ...                 1458.71     0\n",
              "1            2      310  ...                 8787.61     0\n",
              "2            4     2356  ...                 5070.14     0\n",
              "3            5      478  ...                 1669.79     1\n",
              "4            6     2531  ...                 1677.16     1\n",
              "\n",
              "[5 rows x 21 columns]"
            ]
          },
          "metadata": {
            "tags": []
          },
          "execution_count": 15
        }
      ]
    },
    {
      "cell_type": "markdown",
      "metadata": {
        "id": "pbNVakbV_SZr"
      },
      "source": [
        ""
      ]
    },
    {
      "cell_type": "code",
      "metadata": {
        "id": "OUiMGYMsP2Bf",
        "colab": {
          "base_uri": "https://localhost:8080/",
          "height": 304
        },
        "outputId": "2e2cd9f5-68bb-4574-c261-0439e5814195"
      },
      "source": [
        "data.describe()"
      ],
      "execution_count": null,
      "outputs": [
        {
          "output_type": "execute_result",
          "data": {
            "text/html": [
              "<div>\n",
              "<style scoped>\n",
              "    .dataframe tbody tr th:only-of-type {\n",
              "        vertical-align: middle;\n",
              "    }\n",
              "\n",
              "    .dataframe tbody tr th {\n",
              "        vertical-align: top;\n",
              "    }\n",
              "\n",
              "    .dataframe thead th {\n",
              "        text-align: right;\n",
              "    }\n",
              "</style>\n",
              "<table border=\"1\" class=\"dataframe\">\n",
              "  <thead>\n",
              "    <tr style=\"text-align: right;\">\n",
              "      <th></th>\n",
              "      <th>customer_id</th>\n",
              "      <th>vintage</th>\n",
              "      <th>age</th>\n",
              "      <th>dependents</th>\n",
              "      <th>city</th>\n",
              "      <th>customer_nw_category</th>\n",
              "      <th>branch_code</th>\n",
              "      <th>days_since_last_transaction</th>\n",
              "      <th>current_balance</th>\n",
              "      <th>previous_month_end_balance</th>\n",
              "      <th>average_monthly_balance_prevQ</th>\n",
              "      <th>average_monthly_balance_prevQ2</th>\n",
              "      <th>current_month_credit</th>\n",
              "      <th>previous_month_credit</th>\n",
              "      <th>current_month_debit</th>\n",
              "      <th>previous_month_debit</th>\n",
              "      <th>current_month_balance</th>\n",
              "      <th>previous_month_balance</th>\n",
              "      <th>churn</th>\n",
              "    </tr>\n",
              "  </thead>\n",
              "  <tbody>\n",
              "    <tr>\n",
              "      <th>count</th>\n",
              "      <td>28382.000000</td>\n",
              "      <td>28382.000000</td>\n",
              "      <td>28382.000000</td>\n",
              "      <td>25919.000000</td>\n",
              "      <td>27579.000000</td>\n",
              "      <td>28382.000000</td>\n",
              "      <td>28382.000000</td>\n",
              "      <td>25159.000000</td>\n",
              "      <td>2.838200e+04</td>\n",
              "      <td>2.838200e+04</td>\n",
              "      <td>2.838200e+04</td>\n",
              "      <td>2.838200e+04</td>\n",
              "      <td>2.838200e+04</td>\n",
              "      <td>2.838200e+04</td>\n",
              "      <td>2.838200e+04</td>\n",
              "      <td>2.838200e+04</td>\n",
              "      <td>2.838200e+04</td>\n",
              "      <td>2.838200e+04</td>\n",
              "      <td>28382.000000</td>\n",
              "    </tr>\n",
              "    <tr>\n",
              "      <th>mean</th>\n",
              "      <td>15143.508667</td>\n",
              "      <td>2364.336446</td>\n",
              "      <td>48.208336</td>\n",
              "      <td>0.347236</td>\n",
              "      <td>796.109576</td>\n",
              "      <td>2.225530</td>\n",
              "      <td>925.975019</td>\n",
              "      <td>69.997814</td>\n",
              "      <td>7.380552e+03</td>\n",
              "      <td>7.495771e+03</td>\n",
              "      <td>7.496780e+03</td>\n",
              "      <td>7.124209e+03</td>\n",
              "      <td>3.433252e+03</td>\n",
              "      <td>3.261694e+03</td>\n",
              "      <td>3.658745e+03</td>\n",
              "      <td>3.339761e+03</td>\n",
              "      <td>7.451133e+03</td>\n",
              "      <td>7.495177e+03</td>\n",
              "      <td>0.185329</td>\n",
              "    </tr>\n",
              "    <tr>\n",
              "      <th>std</th>\n",
              "      <td>8746.454456</td>\n",
              "      <td>1610.124506</td>\n",
              "      <td>17.807163</td>\n",
              "      <td>0.997661</td>\n",
              "      <td>432.872102</td>\n",
              "      <td>0.660443</td>\n",
              "      <td>937.799129</td>\n",
              "      <td>86.341098</td>\n",
              "      <td>4.259871e+04</td>\n",
              "      <td>4.252935e+04</td>\n",
              "      <td>4.172622e+04</td>\n",
              "      <td>4.457581e+04</td>\n",
              "      <td>7.707145e+04</td>\n",
              "      <td>2.968889e+04</td>\n",
              "      <td>5.198542e+04</td>\n",
              "      <td>2.430111e+04</td>\n",
              "      <td>4.203394e+04</td>\n",
              "      <td>4.243198e+04</td>\n",
              "      <td>0.388571</td>\n",
              "    </tr>\n",
              "    <tr>\n",
              "      <th>min</th>\n",
              "      <td>1.000000</td>\n",
              "      <td>180.000000</td>\n",
              "      <td>1.000000</td>\n",
              "      <td>0.000000</td>\n",
              "      <td>0.000000</td>\n",
              "      <td>1.000000</td>\n",
              "      <td>1.000000</td>\n",
              "      <td>0.000000</td>\n",
              "      <td>-5.503960e+03</td>\n",
              "      <td>-3.149570e+03</td>\n",
              "      <td>1.428690e+03</td>\n",
              "      <td>-1.650610e+04</td>\n",
              "      <td>1.000000e-02</td>\n",
              "      <td>1.000000e-02</td>\n",
              "      <td>1.000000e-02</td>\n",
              "      <td>1.000000e-02</td>\n",
              "      <td>-3.374180e+03</td>\n",
              "      <td>-5.171920e+03</td>\n",
              "      <td>0.000000</td>\n",
              "    </tr>\n",
              "    <tr>\n",
              "      <th>25%</th>\n",
              "      <td>7557.250000</td>\n",
              "      <td>1121.000000</td>\n",
              "      <td>36.000000</td>\n",
              "      <td>0.000000</td>\n",
              "      <td>409.000000</td>\n",
              "      <td>2.000000</td>\n",
              "      <td>176.000000</td>\n",
              "      <td>11.000000</td>\n",
              "      <td>1.784470e+03</td>\n",
              "      <td>1.906000e+03</td>\n",
              "      <td>2.180945e+03</td>\n",
              "      <td>1.832507e+03</td>\n",
              "      <td>3.100000e-01</td>\n",
              "      <td>3.300000e-01</td>\n",
              "      <td>4.100000e-01</td>\n",
              "      <td>4.100000e-01</td>\n",
              "      <td>1.996765e+03</td>\n",
              "      <td>2.074408e+03</td>\n",
              "      <td>0.000000</td>\n",
              "    </tr>\n",
              "    <tr>\n",
              "      <th>50%</th>\n",
              "      <td>15150.500000</td>\n",
              "      <td>2018.000000</td>\n",
              "      <td>46.000000</td>\n",
              "      <td>0.000000</td>\n",
              "      <td>834.000000</td>\n",
              "      <td>2.000000</td>\n",
              "      <td>572.000000</td>\n",
              "      <td>30.000000</td>\n",
              "      <td>3.281255e+03</td>\n",
              "      <td>3.379915e+03</td>\n",
              "      <td>3.542865e+03</td>\n",
              "      <td>3.359600e+03</td>\n",
              "      <td>6.100000e-01</td>\n",
              "      <td>6.300000e-01</td>\n",
              "      <td>9.193000e+01</td>\n",
              "      <td>1.099600e+02</td>\n",
              "      <td>3.447995e+03</td>\n",
              "      <td>3.465235e+03</td>\n",
              "      <td>0.000000</td>\n",
              "    </tr>\n",
              "    <tr>\n",
              "      <th>75%</th>\n",
              "      <td>22706.750000</td>\n",
              "      <td>3176.000000</td>\n",
              "      <td>60.000000</td>\n",
              "      <td>0.000000</td>\n",
              "      <td>1096.000000</td>\n",
              "      <td>3.000000</td>\n",
              "      <td>1440.000000</td>\n",
              "      <td>95.000000</td>\n",
              "      <td>6.635820e+03</td>\n",
              "      <td>6.656535e+03</td>\n",
              "      <td>6.666887e+03</td>\n",
              "      <td>6.517960e+03</td>\n",
              "      <td>7.072725e+02</td>\n",
              "      <td>7.492350e+02</td>\n",
              "      <td>1.360435e+03</td>\n",
              "      <td>1.357553e+03</td>\n",
              "      <td>6.667958e+03</td>\n",
              "      <td>6.654693e+03</td>\n",
              "      <td>0.000000</td>\n",
              "    </tr>\n",
              "    <tr>\n",
              "      <th>max</th>\n",
              "      <td>30301.000000</td>\n",
              "      <td>12899.000000</td>\n",
              "      <td>90.000000</td>\n",
              "      <td>52.000000</td>\n",
              "      <td>1649.000000</td>\n",
              "      <td>3.000000</td>\n",
              "      <td>4782.000000</td>\n",
              "      <td>365.000000</td>\n",
              "      <td>5.905904e+06</td>\n",
              "      <td>5.740439e+06</td>\n",
              "      <td>5.700290e+06</td>\n",
              "      <td>5.010170e+06</td>\n",
              "      <td>1.226985e+07</td>\n",
              "      <td>2.361808e+06</td>\n",
              "      <td>7.637857e+06</td>\n",
              "      <td>1.414168e+06</td>\n",
              "      <td>5.778185e+06</td>\n",
              "      <td>5.720144e+06</td>\n",
              "      <td>1.000000</td>\n",
              "    </tr>\n",
              "  </tbody>\n",
              "</table>\n",
              "</div>"
            ],
            "text/plain": [
              "        customer_id       vintage  ...  previous_month_balance         churn\n",
              "count  28382.000000  28382.000000  ...            2.838200e+04  28382.000000\n",
              "mean   15143.508667   2364.336446  ...            7.495177e+03      0.185329\n",
              "std     8746.454456   1610.124506  ...            4.243198e+04      0.388571\n",
              "min        1.000000    180.000000  ...           -5.171920e+03      0.000000\n",
              "25%     7557.250000   1121.000000  ...            2.074408e+03      0.000000\n",
              "50%    15150.500000   2018.000000  ...            3.465235e+03      0.000000\n",
              "75%    22706.750000   3176.000000  ...            6.654693e+03      0.000000\n",
              "max    30301.000000  12899.000000  ...            5.720144e+06      1.000000\n",
              "\n",
              "[8 rows x 19 columns]"
            ]
          },
          "metadata": {
            "tags": []
          },
          "execution_count": 16
        }
      ]
    },
    {
      "cell_type": "code",
      "metadata": {
        "id": "SqXVcIkl_Tch",
        "colab": {
          "base_uri": "https://localhost:8080/"
        },
        "outputId": "186d5272-27e2-4367-e3b4-cb2975ad6d26"
      },
      "source": [
        "print(data['gender'].value_counts())"
      ],
      "execution_count": null,
      "outputs": [
        {
          "output_type": "stream",
          "text": [
            "Male      16548\n",
            "Female    11309\n",
            "Name: gender, dtype: int64\n"
          ],
          "name": "stdout"
        }
      ]
    },
    {
      "cell_type": "code",
      "metadata": {
        "id": "5WTKQxcr_okV",
        "colab": {
          "base_uri": "https://localhost:8080/"
        },
        "outputId": "a637f63d-c5c4-442e-f1ce-fa7b6195395f"
      },
      "source": [
        "null_gender=data['gender'].isnull()\n",
        "print(null_gender)"
      ],
      "execution_count": null,
      "outputs": [
        {
          "output_type": "stream",
          "text": [
            "0        False\n",
            "1        False\n",
            "2        False\n",
            "3         True\n",
            "4        False\n",
            "         ...  \n",
            "28377    False\n",
            "28378    False\n",
            "28379    False\n",
            "28380    False\n",
            "28381    False\n",
            "Name: gender, Length: 28382, dtype: bool\n"
          ],
          "name": "stdout"
        }
      ]
    },
    {
      "cell_type": "code",
      "metadata": {
        "id": "pqw8nAs68VjV",
        "colab": {
          "base_uri": "https://localhost:8080/",
          "height": 422
        },
        "outputId": "13e12498-3580-4fcd-a7dc-ffc4a347fa99"
      },
      "source": [
        "#Missing Data And Filling In\n",
        "\n",
        "data.isnull()"
      ],
      "execution_count": null,
      "outputs": [
        {
          "output_type": "execute_result",
          "data": {
            "text/html": [
              "<div>\n",
              "<style scoped>\n",
              "    .dataframe tbody tr th:only-of-type {\n",
              "        vertical-align: middle;\n",
              "    }\n",
              "\n",
              "    .dataframe tbody tr th {\n",
              "        vertical-align: top;\n",
              "    }\n",
              "\n",
              "    .dataframe thead th {\n",
              "        text-align: right;\n",
              "    }\n",
              "</style>\n",
              "<table border=\"1\" class=\"dataframe\">\n",
              "  <thead>\n",
              "    <tr style=\"text-align: right;\">\n",
              "      <th></th>\n",
              "      <th>customer_id</th>\n",
              "      <th>vintage</th>\n",
              "      <th>age</th>\n",
              "      <th>gender</th>\n",
              "      <th>dependents</th>\n",
              "      <th>occupation</th>\n",
              "      <th>city</th>\n",
              "      <th>customer_nw_category</th>\n",
              "      <th>branch_code</th>\n",
              "      <th>days_since_last_transaction</th>\n",
              "      <th>current_balance</th>\n",
              "      <th>previous_month_end_balance</th>\n",
              "      <th>average_monthly_balance_prevQ</th>\n",
              "      <th>average_monthly_balance_prevQ2</th>\n",
              "      <th>current_month_credit</th>\n",
              "      <th>previous_month_credit</th>\n",
              "      <th>current_month_debit</th>\n",
              "      <th>previous_month_debit</th>\n",
              "      <th>current_month_balance</th>\n",
              "      <th>previous_month_balance</th>\n",
              "      <th>churn</th>\n",
              "    </tr>\n",
              "  </thead>\n",
              "  <tbody>\n",
              "    <tr>\n",
              "      <th>0</th>\n",
              "      <td>False</td>\n",
              "      <td>False</td>\n",
              "      <td>False</td>\n",
              "      <td>False</td>\n",
              "      <td>False</td>\n",
              "      <td>False</td>\n",
              "      <td>False</td>\n",
              "      <td>False</td>\n",
              "      <td>False</td>\n",
              "      <td>False</td>\n",
              "      <td>False</td>\n",
              "      <td>False</td>\n",
              "      <td>False</td>\n",
              "      <td>False</td>\n",
              "      <td>False</td>\n",
              "      <td>False</td>\n",
              "      <td>False</td>\n",
              "      <td>False</td>\n",
              "      <td>False</td>\n",
              "      <td>False</td>\n",
              "      <td>False</td>\n",
              "    </tr>\n",
              "    <tr>\n",
              "      <th>1</th>\n",
              "      <td>False</td>\n",
              "      <td>False</td>\n",
              "      <td>False</td>\n",
              "      <td>False</td>\n",
              "      <td>False</td>\n",
              "      <td>False</td>\n",
              "      <td>True</td>\n",
              "      <td>False</td>\n",
              "      <td>False</td>\n",
              "      <td>False</td>\n",
              "      <td>False</td>\n",
              "      <td>False</td>\n",
              "      <td>False</td>\n",
              "      <td>False</td>\n",
              "      <td>False</td>\n",
              "      <td>False</td>\n",
              "      <td>False</td>\n",
              "      <td>False</td>\n",
              "      <td>False</td>\n",
              "      <td>False</td>\n",
              "      <td>False</td>\n",
              "    </tr>\n",
              "    <tr>\n",
              "      <th>2</th>\n",
              "      <td>False</td>\n",
              "      <td>False</td>\n",
              "      <td>False</td>\n",
              "      <td>False</td>\n",
              "      <td>False</td>\n",
              "      <td>False</td>\n",
              "      <td>False</td>\n",
              "      <td>False</td>\n",
              "      <td>False</td>\n",
              "      <td>True</td>\n",
              "      <td>False</td>\n",
              "      <td>False</td>\n",
              "      <td>False</td>\n",
              "      <td>False</td>\n",
              "      <td>False</td>\n",
              "      <td>False</td>\n",
              "      <td>False</td>\n",
              "      <td>False</td>\n",
              "      <td>False</td>\n",
              "      <td>False</td>\n",
              "      <td>False</td>\n",
              "    </tr>\n",
              "    <tr>\n",
              "      <th>3</th>\n",
              "      <td>False</td>\n",
              "      <td>False</td>\n",
              "      <td>False</td>\n",
              "      <td>True</td>\n",
              "      <td>True</td>\n",
              "      <td>False</td>\n",
              "      <td>False</td>\n",
              "      <td>False</td>\n",
              "      <td>False</td>\n",
              "      <td>False</td>\n",
              "      <td>False</td>\n",
              "      <td>False</td>\n",
              "      <td>False</td>\n",
              "      <td>False</td>\n",
              "      <td>False</td>\n",
              "      <td>False</td>\n",
              "      <td>False</td>\n",
              "      <td>False</td>\n",
              "      <td>False</td>\n",
              "      <td>False</td>\n",
              "      <td>False</td>\n",
              "    </tr>\n",
              "    <tr>\n",
              "      <th>4</th>\n",
              "      <td>False</td>\n",
              "      <td>False</td>\n",
              "      <td>False</td>\n",
              "      <td>False</td>\n",
              "      <td>False</td>\n",
              "      <td>False</td>\n",
              "      <td>False</td>\n",
              "      <td>False</td>\n",
              "      <td>False</td>\n",
              "      <td>False</td>\n",
              "      <td>False</td>\n",
              "      <td>False</td>\n",
              "      <td>False</td>\n",
              "      <td>False</td>\n",
              "      <td>False</td>\n",
              "      <td>False</td>\n",
              "      <td>False</td>\n",
              "      <td>False</td>\n",
              "      <td>False</td>\n",
              "      <td>False</td>\n",
              "      <td>False</td>\n",
              "    </tr>\n",
              "    <tr>\n",
              "      <th>...</th>\n",
              "      <td>...</td>\n",
              "      <td>...</td>\n",
              "      <td>...</td>\n",
              "      <td>...</td>\n",
              "      <td>...</td>\n",
              "      <td>...</td>\n",
              "      <td>...</td>\n",
              "      <td>...</td>\n",
              "      <td>...</td>\n",
              "      <td>...</td>\n",
              "      <td>...</td>\n",
              "      <td>...</td>\n",
              "      <td>...</td>\n",
              "      <td>...</td>\n",
              "      <td>...</td>\n",
              "      <td>...</td>\n",
              "      <td>...</td>\n",
              "      <td>...</td>\n",
              "      <td>...</td>\n",
              "      <td>...</td>\n",
              "      <td>...</td>\n",
              "    </tr>\n",
              "    <tr>\n",
              "      <th>28377</th>\n",
              "      <td>False</td>\n",
              "      <td>False</td>\n",
              "      <td>False</td>\n",
              "      <td>False</td>\n",
              "      <td>False</td>\n",
              "      <td>False</td>\n",
              "      <td>False</td>\n",
              "      <td>False</td>\n",
              "      <td>False</td>\n",
              "      <td>False</td>\n",
              "      <td>False</td>\n",
              "      <td>False</td>\n",
              "      <td>False</td>\n",
              "      <td>False</td>\n",
              "      <td>False</td>\n",
              "      <td>False</td>\n",
              "      <td>False</td>\n",
              "      <td>False</td>\n",
              "      <td>False</td>\n",
              "      <td>False</td>\n",
              "      <td>False</td>\n",
              "    </tr>\n",
              "    <tr>\n",
              "      <th>28378</th>\n",
              "      <td>False</td>\n",
              "      <td>False</td>\n",
              "      <td>False</td>\n",
              "      <td>False</td>\n",
              "      <td>False</td>\n",
              "      <td>False</td>\n",
              "      <td>False</td>\n",
              "      <td>False</td>\n",
              "      <td>False</td>\n",
              "      <td>False</td>\n",
              "      <td>False</td>\n",
              "      <td>False</td>\n",
              "      <td>False</td>\n",
              "      <td>False</td>\n",
              "      <td>False</td>\n",
              "      <td>False</td>\n",
              "      <td>False</td>\n",
              "      <td>False</td>\n",
              "      <td>False</td>\n",
              "      <td>False</td>\n",
              "      <td>False</td>\n",
              "    </tr>\n",
              "    <tr>\n",
              "      <th>28379</th>\n",
              "      <td>False</td>\n",
              "      <td>False</td>\n",
              "      <td>False</td>\n",
              "      <td>False</td>\n",
              "      <td>False</td>\n",
              "      <td>False</td>\n",
              "      <td>False</td>\n",
              "      <td>False</td>\n",
              "      <td>False</td>\n",
              "      <td>False</td>\n",
              "      <td>False</td>\n",
              "      <td>False</td>\n",
              "      <td>False</td>\n",
              "      <td>False</td>\n",
              "      <td>False</td>\n",
              "      <td>False</td>\n",
              "      <td>False</td>\n",
              "      <td>False</td>\n",
              "      <td>False</td>\n",
              "      <td>False</td>\n",
              "      <td>False</td>\n",
              "    </tr>\n",
              "    <tr>\n",
              "      <th>28380</th>\n",
              "      <td>False</td>\n",
              "      <td>False</td>\n",
              "      <td>False</td>\n",
              "      <td>False</td>\n",
              "      <td>False</td>\n",
              "      <td>False</td>\n",
              "      <td>False</td>\n",
              "      <td>False</td>\n",
              "      <td>False</td>\n",
              "      <td>True</td>\n",
              "      <td>False</td>\n",
              "      <td>False</td>\n",
              "      <td>False</td>\n",
              "      <td>False</td>\n",
              "      <td>False</td>\n",
              "      <td>False</td>\n",
              "      <td>False</td>\n",
              "      <td>False</td>\n",
              "      <td>False</td>\n",
              "      <td>False</td>\n",
              "      <td>False</td>\n",
              "    </tr>\n",
              "    <tr>\n",
              "      <th>28381</th>\n",
              "      <td>False</td>\n",
              "      <td>False</td>\n",
              "      <td>False</td>\n",
              "      <td>False</td>\n",
              "      <td>False</td>\n",
              "      <td>False</td>\n",
              "      <td>False</td>\n",
              "      <td>False</td>\n",
              "      <td>False</td>\n",
              "      <td>False</td>\n",
              "      <td>False</td>\n",
              "      <td>False</td>\n",
              "      <td>False</td>\n",
              "      <td>False</td>\n",
              "      <td>False</td>\n",
              "      <td>False</td>\n",
              "      <td>False</td>\n",
              "      <td>False</td>\n",
              "      <td>False</td>\n",
              "      <td>False</td>\n",
              "      <td>False</td>\n",
              "    </tr>\n",
              "  </tbody>\n",
              "</table>\n",
              "<p>28382 rows × 21 columns</p>\n",
              "</div>"
            ],
            "text/plain": [
              "       customer_id  vintage  ...  previous_month_balance  churn\n",
              "0            False    False  ...                   False  False\n",
              "1            False    False  ...                   False  False\n",
              "2            False    False  ...                   False  False\n",
              "3            False    False  ...                   False  False\n",
              "4            False    False  ...                   False  False\n",
              "...            ...      ...  ...                     ...    ...\n",
              "28377        False    False  ...                   False  False\n",
              "28378        False    False  ...                   False  False\n",
              "28379        False    False  ...                   False  False\n",
              "28380        False    False  ...                   False  False\n",
              "28381        False    False  ...                   False  False\n",
              "\n",
              "[28382 rows x 21 columns]"
            ]
          },
          "metadata": {
            "tags": []
          },
          "execution_count": 20
        }
      ]
    },
    {
      "cell_type": "code",
      "metadata": {
        "id": "9VVV0tSC_58Y"
      },
      "source": [
        "import numpy as np\n",
        "for i in range (0,28382):\n",
        "  if(null_gender[i]==True):\n",
        "    change=data.replace(null_gender[i],np.NaN)\n",
        "    #data=(change.dropna())"
      ],
      "execution_count": null,
      "outputs": []
    },
    {
      "cell_type": "code",
      "metadata": {
        "id": "JQ0iZdX9Cn_p",
        "colab": {
          "base_uri": "https://localhost:8080/"
        },
        "outputId": "b7f2216a-79ed-4db6-8bef-df2a4b38889e"
      },
      "source": [
        "print(data[0:6]['gender'])"
      ],
      "execution_count": null,
      "outputs": [
        {
          "output_type": "stream",
          "text": [
            "0      Male\n",
            "1      Male\n",
            "2      Male\n",
            "3       NaN\n",
            "4      Male\n",
            "5    Female\n",
            "Name: gender, dtype: object\n"
          ],
          "name": "stdout"
        }
      ]
    },
    {
      "cell_type": "code",
      "metadata": {
        "id": "ydaLX9YYNDqS",
        "colab": {
          "base_uri": "https://localhost:8080/"
        },
        "outputId": "05f33f60-62cd-4ce8-f9a6-8bdce13db21e"
      },
      "source": [
        "print(data[0:6]['gender'])    #just to check and cross verify\n",
        "print(data['gender'].value_counts())\n",
        "#print(change)"
      ],
      "execution_count": null,
      "outputs": [
        {
          "output_type": "stream",
          "text": [
            "0      Male\n",
            "1      Male\n",
            "2      Male\n",
            "3       NaN\n",
            "4      Male\n",
            "5    Female\n",
            "Name: gender, dtype: object\n",
            "Male      16548\n",
            "Female    11309\n",
            "Name: gender, dtype: int64\n"
          ],
          "name": "stdout"
        }
      ]
    },
    {
      "cell_type": "code",
      "metadata": {
        "id": "Ae9sFvjHQBw1"
      },
      "source": [
        "#print(data)"
      ],
      "execution_count": null,
      "outputs": []
    },
    {
      "cell_type": "code",
      "metadata": {
        "id": "L-boLEfCRCsM",
        "colab": {
          "base_uri": "https://localhost:8080/"
        },
        "outputId": "f93cede4-5c6c-48b7-9a26-9124951306af"
      },
      "source": [
        "print(data['occupation'].value_counts())"
      ],
      "execution_count": null,
      "outputs": [
        {
          "output_type": "stream",
          "text": [
            "self_employed    17476\n",
            "salaried          6704\n",
            "student           2058\n",
            "retired           2024\n",
            "company             40\n",
            "Name: occupation, dtype: int64\n"
          ],
          "name": "stdout"
        }
      ]
    },
    {
      "cell_type": "code",
      "metadata": {
        "id": "26njmI7qRY18",
        "colab": {
          "base_uri": "https://localhost:8080/"
        },
        "outputId": "697feefc-214c-47fb-a695-379027621249"
      },
      "source": [
        "null_occ=data['occupation'].isnull()\n",
        "print(null_occ)"
      ],
      "execution_count": null,
      "outputs": [
        {
          "output_type": "stream",
          "text": [
            "0        False\n",
            "1        False\n",
            "2        False\n",
            "3        False\n",
            "4        False\n",
            "         ...  \n",
            "28377    False\n",
            "28378    False\n",
            "28379    False\n",
            "28380    False\n",
            "28381    False\n",
            "Name: occupation, Length: 28382, dtype: bool\n"
          ],
          "name": "stdout"
        }
      ]
    },
    {
      "cell_type": "code",
      "metadata": {
        "id": "Ue6y_KPJRqke"
      },
      "source": [
        "import numpy as np\n",
        "for i in range (0,28381):\n",
        "    if(null_occ[i]==True):\n",
        "      change_occ=data.replace(null_occ[i],np.NaN)"
      ],
      "execution_count": null,
      "outputs": []
    },
    {
      "cell_type": "code",
      "metadata": {
        "id": "ithAycI7joQz",
        "colab": {
          "base_uri": "https://localhost:8080/"
        },
        "outputId": "2c3931ab-56f5-4018-9d3b-8676eadc2b4c"
      },
      "source": [
        "print(data[0:6]['occupation'])    #just to check and cross verify\n",
        "print(data['occupation'].value_counts())"
      ],
      "execution_count": null,
      "outputs": [
        {
          "output_type": "stream",
          "text": [
            "0    self_employed\n",
            "1    self_employed\n",
            "2         salaried\n",
            "3    self_employed\n",
            "4    self_employed\n",
            "5    self_employed\n",
            "Name: occupation, dtype: object\n",
            "self_employed    17476\n",
            "salaried          6704\n",
            "student           2058\n",
            "retired           2024\n",
            "company             40\n",
            "Name: occupation, dtype: int64\n"
          ],
          "name": "stdout"
        }
      ]
    },
    {
      "cell_type": "code",
      "metadata": {
        "id": "l9Hoz3lL8HYb",
        "colab": {
          "base_uri": "https://localhost:8080/"
        },
        "outputId": "224997fd-c475-486d-f18d-f1a373422a72"
      },
      "source": [
        "data.isnull().sum()"
      ],
      "execution_count": null,
      "outputs": [
        {
          "output_type": "execute_result",
          "data": {
            "text/plain": [
              "customer_id                          0\n",
              "vintage                              0\n",
              "age                                  0\n",
              "gender                             525\n",
              "dependents                        2463\n",
              "occupation                          80\n",
              "city                               803\n",
              "customer_nw_category                 0\n",
              "branch_code                          0\n",
              "days_since_last_transaction       3223\n",
              "current_balance                      0\n",
              "previous_month_end_balance           0\n",
              "average_monthly_balance_prevQ        0\n",
              "average_monthly_balance_prevQ2       0\n",
              "current_month_credit                 0\n",
              "previous_month_credit                0\n",
              "current_month_debit                  0\n",
              "previous_month_debit                 0\n",
              "current_month_balance                0\n",
              "previous_month_balance               0\n",
              "churn                                0\n",
              "dtype: int64"
            ]
          },
          "metadata": {
            "tags": []
          },
          "execution_count": 33
        }
      ]
    },
    {
      "cell_type": "code",
      "metadata": {
        "id": "BHaCYkSH8ncE"
      },
      "source": [
        "data['gender']=data['gender'].fillna('Male')"
      ],
      "execution_count": null,
      "outputs": []
    },
    {
      "cell_type": "code",
      "metadata": {
        "id": "KZLsneWs9Cqz"
      },
      "source": [
        "data['dependents']=data['dependents'].fillna(value=data['dependents'].mean())"
      ],
      "execution_count": null,
      "outputs": []
    },
    {
      "cell_type": "code",
      "metadata": {
        "id": "BnlFkH_W9PRu"
      },
      "source": [
        "data['occupation']=data['occupation'].fillna(value=data['occupation'].bfill())  #fills with below value"
      ],
      "execution_count": null,
      "outputs": []
    },
    {
      "cell_type": "code",
      "metadata": {
        "id": "9f04T-6G925W"
      },
      "source": [
        "data['city']=data['city'].fillna(value=data['city'].pad())  #previous value is assigned"
      ],
      "execution_count": null,
      "outputs": []
    },
    {
      "cell_type": "code",
      "metadata": {
        "id": "5DlWTmS1-IG2"
      },
      "source": [
        "data['days_since_last_transaction']=data['days_since_last_transaction'].fillna(value=data['days_since_last_transaction'].median())"
      ],
      "execution_count": null,
      "outputs": []
    },
    {
      "cell_type": "code",
      "metadata": {
        "id": "oYpW_4y4-WgB",
        "colab": {
          "base_uri": "https://localhost:8080/"
        },
        "outputId": "e019b5db-54a2-4225-a3ed-0e51bbaf1765"
      },
      "source": [
        "data.isnull().sum()\n",
        "#Since everything is zero, the data is now clean ie, all the null values are removed"
      ],
      "execution_count": null,
      "outputs": [
        {
          "output_type": "execute_result",
          "data": {
            "text/plain": [
              "customer_id                       0\n",
              "vintage                           0\n",
              "age                               0\n",
              "gender                            0\n",
              "dependents                        0\n",
              "occupation                        0\n",
              "city                              0\n",
              "customer_nw_category              0\n",
              "branch_code                       0\n",
              "days_since_last_transaction       0\n",
              "current_balance                   0\n",
              "previous_month_end_balance        0\n",
              "average_monthly_balance_prevQ     0\n",
              "average_monthly_balance_prevQ2    0\n",
              "current_month_credit              0\n",
              "previous_month_credit             0\n",
              "current_month_debit               0\n",
              "previous_month_debit              0\n",
              "current_month_balance             0\n",
              "previous_month_balance            0\n",
              "churn                             0\n",
              "dtype: int64"
            ]
          },
          "metadata": {
            "tags": []
          },
          "execution_count": 39
        }
      ]
    },
    {
      "cell_type": "code",
      "metadata": {
        "id": "9F3zu_iAjoBc"
      },
      "source": [
        "import pandas as pd\n",
        "import matplotlib.pyplot as pld\n",
        "import seaborn as sns"
      ],
      "execution_count": null,
      "outputs": []
    },
    {
      "cell_type": "code",
      "metadata": {
        "id": "bpvVHOeGOufR",
        "colab": {
          "base_uri": "https://localhost:8080/",
          "height": 344
        },
        "outputId": "97ffe785-7ca7-4f84-8d01-64b4440cad49"
      },
      "source": [
        "df=pd.DataFrame(data)\n",
        "df.occupation.value_counts().plot(kind='bar')  \n"
      ],
      "execution_count": null,
      "outputs": [
        {
          "output_type": "execute_result",
          "data": {
            "text/plain": [
              "<matplotlib.axes._subplots.AxesSubplot at 0x7ff62012d0f0>"
            ]
          },
          "metadata": {
            "tags": []
          },
          "execution_count": 41
        },
        {
          "output_type": "display_data",
          "data": {
            "image/png": "[encoded data removed]",
            "text/plain": [
              "<Figure size 432x288 with 1 Axes>"
            ]
          },
          "metadata": {
            "tags": [],
            "needs_background": "light"
          }
        }
      ]
    },
    {
      "cell_type": "code",
      "metadata": {
        "id": "pn9yoUenQVqW",
        "colab": {
          "base_uri": "https://localhost:8080/",
          "height": 297
        },
        "outputId": "c4014a7b-96ca-46f0-bab1-f617e014ee25"
      },
      "source": [
        "#same graph using seaborn\n",
        "sns.countplot(x ='occupation', data=data)"
      ],
      "execution_count": null,
      "outputs": [
        {
          "output_type": "execute_result",
          "data": {
            "text/plain": [
              "<matplotlib.axes._subplots.AxesSubplot at 0x7ff620076978>"
            ]
          },
          "metadata": {
            "tags": []
          },
          "execution_count": 42
        },
        {
          "output_type": "display_data",
          "data": {
            "image/png": "[encoded data removed]",
            "text/plain": [
              "<Figure size 432x288 with 1 Axes>"
            ]
          },
          "metadata": {
            "tags": [],
            "needs_background": "light"
          }
        }
      ]
    },
    {
      "cell_type": "code",
      "metadata": {
        "id": "0VdMzGmFCWxT",
        "colab": {
          "base_uri": "https://localhost:8080/",
          "height": 366
        },
        "outputId": "7eca2589-530e-466a-bd93-ebb8abcf30ab"
      },
      "source": [
        "import matplotlib.pyplot as plt\n",
        "data['vintage'].plot(kind='hist', figsize=(5, 5),color='r');\n",
        "plt.xlabel(\"Vintage\", labelpad=12)\n",
        "plt.ylabel(\"Frequency\", labelpad=12)\n",
        "plt.title(\"VINTAGE\", y=1.015, fontsize=18);"
      ],
      "execution_count": null,
      "outputs": [
        {
          "output_type": "display_data",
          "data": {
            "image/png": "[encoded data removed]",
            "text/plain": [
              "<Figure size 360x360 with 1 Axes>"
            ]
          },
          "metadata": {
            "tags": [],
            "needs_background": "light"
          }
        }
      ]
    },
    {
      "cell_type": "code",
      "metadata": {
        "id": "MDSYoP59CZoX",
        "colab": {
          "base_uri": "https://localhost:8080/",
          "height": 366
        },
        "outputId": "a151c2c6-d307-422d-8aab-5ea4415dbed9"
      },
      "source": [
        "data['days_since_last_transaction'].plot(kind='hist', figsize=(5, 5),color='b');\n",
        "plt.xlabel(\"DAYS SINCE LAST TRANSACTION\", labelpad=12)\n",
        "plt.ylabel(\"Frequency\", labelpad=12)\n",
        "plt.title(\"DAYS SINCE LAST TRANSACTION\", y=1.015, fontsize=18);"
      ],
      "execution_count": null,
      "outputs": [
        {
          "output_type": "display_data",
          "data": {
            "image/png": "[encoded data removed]",
            "text/plain": [
              "<Figure size 360x360 with 1 Axes>"
            ]
          },
          "metadata": {
            "tags": [],
            "needs_background": "light"
          }
        }
      ]
    },
    {
      "cell_type": "code",
      "metadata": {
        "id": "7Od6zkySRB91"
      },
      "source": [
        "sns.barplot(x='gender', y='dependents', data=data)\n",
        "#Men have more dependents than women"
      ],
      "execution_count": null,
      "outputs": []
    },
    {
      "cell_type": "code",
      "metadata": {
        "id": "itj9dUZl4j--",
        "colab": {
          "base_uri": "https://localhost:8080/",
          "height": 746
        },
        "outputId": "6e576f52-8416-4c97-cc6f-37fac33da1b9"
      },
      "source": [
        "FacetGrid=sns.FacetGrid(data, row='gender', height=5, aspect=2)\n",
        "FacetGrid.map(sns.pointplot, 'current_month_credit', 'previous_month_credit', palette=None,  order=None, hue_order=None )\n",
        "FacetGrid.add_legend()"
      ],
      "execution_count": null,
      "outputs": [
        {
          "output_type": "execute_result",
          "data": {
            "text/plain": [
              "<seaborn.axisgrid.FacetGrid at 0x7ff61fb05518>"
            ]
          },
          "metadata": {
            "tags": []
          },
          "execution_count": 44
        },
        {
          "output_type": "display_data",
          "data": {
            "image/png": "[encoded data removed]",
            "text/plain": [
              "<Figure size 728x720 with 2 Axes>"
            ]
          },
          "metadata": {
            "tags": [],
            "needs_background": "light"
          }
        }
      ]
    },
    {
      "cell_type": "code",
      "metadata": {
        "id": "8oyU895dR-UI",
        "colab": {
          "base_uri": "https://localhost:8080/"
        },
        "outputId": "97f15f69-6c8f-4f57-df81-e7c87dd61608"
      },
      "source": [
        "data.columns"
      ],
      "execution_count": null,
      "outputs": [
        {
          "output_type": "execute_result",
          "data": {
            "text/plain": [
              "Index(['customer_id', 'vintage', 'age', 'gender', 'dependents', 'occupation',\n",
              "       'city', 'customer_nw_category', 'branch_code',\n",
              "       'days_since_last_transaction', 'current_balance',\n",
              "       'previous_month_end_balance', 'average_monthly_balance_prevQ',\n",
              "       'average_monthly_balance_prevQ2', 'current_month_credit',\n",
              "       'previous_month_credit', 'current_month_debit', 'previous_month_debit',\n",
              "       'current_month_balance', 'previous_month_balance', 'churn'],\n",
              "      dtype='object')"
            ]
          },
          "metadata": {
            "tags": []
          },
          "execution_count": 45
        }
      ]
    },
    {
      "cell_type": "code",
      "metadata": {
        "id": "ifbclFBaReHW",
        "colab": {
          "base_uri": "https://localhost:8080/"
        },
        "outputId": "16563963-3c71-46b7-847a-3c397b8497ca"
      },
      "source": [
        "data['current_balance'].mean()    #MEAN OF CURRENT BALANCE"
      ],
      "execution_count": null,
      "outputs": [
        {
          "output_type": "execute_result",
          "data": {
            "text/plain": [
              "7380.551803607912"
            ]
          },
          "metadata": {
            "tags": []
          },
          "execution_count": 46
        }
      ]
    },
    {
      "cell_type": "code",
      "metadata": {
        "id": "rJ4UUHFkSj5v",
        "colab": {
          "base_uri": "https://localhost:8080/"
        },
        "outputId": "4fbf29b2-d7b1-441f-9574-1c5050b1ec0f"
      },
      "source": [
        "data['current_balance'].median()  #MEDIAN OF CURRENT BALANCE"
      ],
      "execution_count": null,
      "outputs": [
        {
          "output_type": "execute_result",
          "data": {
            "text/plain": [
              "3281.255"
            ]
          },
          "metadata": {
            "tags": []
          },
          "execution_count": 47
        }
      ]
    },
    {
      "cell_type": "code",
      "metadata": {
        "id": "SqUAlzwDSneY",
        "colab": {
          "base_uri": "https://localhost:8080/"
        },
        "outputId": "ab3f5f0c-a1f8-465d-f641-eb1a612180c2"
      },
      "source": [
        "data['current_balance'].var()  #VARIANCE OF CURRENT BALANCE"
      ],
      "execution_count": null,
      "outputs": [
        {
          "output_type": "execute_result",
          "data": {
            "text/plain": [
              "1814650257.5186183"
            ]
          },
          "metadata": {
            "tags": []
          },
          "execution_count": 49
        }
      ]
    },
    {
      "cell_type": "code",
      "metadata": {
        "id": "zu7Fqt87Swx9",
        "colab": {
          "base_uri": "https://localhost:8080/",
          "height": 399
        },
        "outputId": "afdef6f6-6682-4af8-9ade-f7ccd51684e9"
      },
      "source": [
        "import matplotlib.pyplot as plt\n",
        "Q1 = data['current_balance'].quantile(0.25)\n",
        "Q3 = data['current_balance'].quantile(0.75)\n",
        "IQR = Q3 - Q1    #IQR is interquartile range. \n",
        "\n",
        "#removes outliers\n",
        "filter = (data['current_balance'] >= Q1 - 1.5 * IQR) & (data['current_balance'] <= Q3 + 1.5 *IQR)\n",
        "data_new=data.loc[filter]  \n",
        "plt.boxplot(data_new.current_balance)"
      ],
      "execution_count": null,
      "outputs": [
        {
          "output_type": "execute_result",
          "data": {
            "text/plain": [
              "{'boxes': [<matplotlib.lines.Line2D at 0x7f7b9db11128>],\n",
              " 'caps': [<matplotlib.lines.Line2D at 0x7f7b9db11b38>,\n",
              "  <matplotlib.lines.Line2D at 0x7f7b9db11eb8>],\n",
              " 'fliers': [<matplotlib.lines.Line2D at 0x7f7b9db285f8>],\n",
              " 'means': [],\n",
              " 'medians': [<matplotlib.lines.Line2D at 0x7f7b9db28278>],\n",
              " 'whiskers': [<matplotlib.lines.Line2D at 0x7f7b9db11438>,\n",
              "  <matplotlib.lines.Line2D at 0x7f7b9db117b8>]}"
            ]
          },
          "metadata": {
            "tags": []
          },
          "execution_count": 15
        },
        {
          "output_type": "display_data",
          "data": {
            "image/png": "[encoded data removed]",
            "text/plain": [
              "<Figure size 432x288 with 1 Axes>"
            ]
          },
          "metadata": {
            "tags": [],
            "needs_background": "light"
          }
        }
      ]
    },
    {
      "cell_type": "code",
      "metadata": {
        "id": "aHPkmVP-RyuS",
        "colab": {
          "base_uri": "https://localhost:8080/",
          "height": 296
        },
        "outputId": "be2ec81c-2d44-4f6c-86bc-9cc039877e5d"
      },
      "source": [
        "sns.boxplot(x ='age', data=data)"
      ],
      "execution_count": null,
      "outputs": [
        {
          "output_type": "execute_result",
          "data": {
            "text/plain": [
              "<matplotlib.axes._subplots.AxesSubplot at 0x7ff60f973eb8>"
            ]
          },
          "metadata": {
            "tags": []
          },
          "execution_count": 50
        },
        {
          "output_type": "display_data",
          "data": {
            "image/png": "[encoded data removed]",
            "text/plain": [
              "<Figure size 432x288 with 1 Axes>"
            ]
          },
          "metadata": {
            "tags": [],
            "needs_background": "light"
          }
        }
      ]
    },
    {
      "cell_type": "code",
      "metadata": {
        "id": "w4QTAraoUIaX",
        "colab": {
          "base_uri": "https://localhost:8080/",
          "height": 289
        },
        "outputId": "89cc3e3c-385c-46f7-82d3-caf6dda32a77"
      },
      "source": [
        "df=pd.DataFrame(data)\n",
        "plt.scatter(df.current_month_balance,df.previous_month_balance)       #we do not specify which is x and y\n",
        "plt.show()"
      ],
      "execution_count": null,
      "outputs": [
        {
          "output_type": "display_data",
          "data": {
            "image/png": "[encoded data removed]",
            "text/plain": [
              "<Figure size 432x288 with 1 Axes>"
            ]
          },
          "metadata": {
            "tags": [],
            "needs_background": "light"
          }
        }
      ]
    },
    {
      "cell_type": "code",
      "metadata": {
        "id": "FlBGOLUnQyOW",
        "colab": {
          "base_uri": "https://localhost:8080/",
          "height": 296
        },
        "outputId": "b7d00254-68d6-4c42-838a-cbd4b457c3de"
      },
      "source": [
        "sns.countplot(x='age'[0:100],data=data)"
      ],
      "execution_count": null,
      "outputs": [
        {
          "output_type": "execute_result",
          "data": {
            "text/plain": [
              "<matplotlib.axes._subplots.AxesSubplot at 0x7ff60f76d7b8>"
            ]
          },
          "metadata": {
            "tags": []
          },
          "execution_count": 54
        },
        {
          "output_type": "display_data",
          "data": {
            "image/png": "[encoded data removed]",
            "text/plain": [
              "<Figure size 432x288 with 1 Axes>"
            ]
          },
          "metadata": {
            "tags": [],
            "needs_background": "light"
          }
        }
      ]
    },
    {
      "cell_type": "code",
      "metadata": {
        "id": "XvHsSasKQ6RT",
        "colab": {
          "base_uri": "https://localhost:8080/",
          "height": 449
        },
        "outputId": "8c7f83e6-0e8e-496f-a998-e8aaa8bb6162"
      },
      "source": [
        "# Calculate correlations\n",
        "corr = data.corr()\n",
        "# Heatmap\n",
        "sns.heatmap(corr)"
      ],
      "execution_count": null,
      "outputs": [
        {
          "output_type": "execute_result",
          "data": {
            "text/plain": [
              "<matplotlib.axes._subplots.AxesSubplot at 0x7fc6635f7b70>"
            ]
          },
          "metadata": {
            "tags": []
          },
          "execution_count": 4
        },
        {
          "output_type": "display_data",
          "data": {
            "image/png": "[encoded data removed]",
            "text/plain": [
              "<Figure size 432x288 with 2 Axes>"
            ]
          },
          "metadata": {
            "tags": [],
            "needs_background": "light"
          }
        }
      ]
    },
    {
      "cell_type": "code",
      "metadata": {
        "id": "mOONXCgERX1Y",
        "colab": {
          "base_uri": "https://localhost:8080/",
          "height": 354
        },
        "outputId": "0e68f9f2-8f1d-4744-a6b0-169952e17b05"
      },
      "source": [
        "sns.distplot(data['branch_code'], bins=6)"
      ],
      "execution_count": null,
      "outputs": [
        {
          "output_type": "stream",
          "text": [
            "/usr/local/lib/python3.6/dist-packages/seaborn/distributions.py:2551: FutureWarning: `distplot` is a deprecated function and will be removed in a future version. Please adapt your code to use either `displot` (a figure-level function with similar flexibility) or `histplot` (an axes-level function for histograms).\n",
            "  warnings.warn(msg, FutureWarning)\n"
          ],
          "name": "stderr"
        },
        {
          "output_type": "execute_result",
          "data": {
            "text/plain": [
              "<matplotlib.axes._subplots.AxesSubplot at 0x7ff60e6bb978>"
            ]
          },
          "metadata": {
            "tags": []
          },
          "execution_count": 55
        },
        {
          "output_type": "display_data",
          "data": {
            "image/png": "[encoded data removed]",
            "text/plain": [
              "<Figure size 432x288 with 1 Axes>"
            ]
          },
          "metadata": {
            "tags": [],
            "needs_background": "light"
          }
        }
      ]
    },
    {
      "cell_type": "code",
      "metadata": {
        "id": "Mz-KBi8_erhn"
      },
      "source": [
        "#Data Cleaning Detection of outliers\n",
        "from collections import Counter\n",
        "def detect_outliers(df,n,features):\n",
        "    \"\"\"\n",
        "    Takes a dataframe df of features and returns a list of the indices\n",
        "    corresponding to the observations containing more than n outliers according\n",
        "    to the Tukey method.\n",
        "    \"\"\"\n",
        "    outlier_indices = []\n",
        "    \n",
        "    # iterate over features(columns)\n",
        "    for col in features:\n",
        "        \n",
        "        # 1st quartile (25%)\n",
        "        Q1 = np.percentile(df[col], 25)\n",
        "        \n",
        "        # 3rd quartile (75%)\n",
        "        Q3 = np.percentile(df[col],75)\n",
        "        \n",
        "        # Interquartile range (IQR)\n",
        "        IQR = Q3 - Q1\n",
        "        \n",
        "        # outlier step\n",
        "        outlier_step = 1.5 * IQR\n",
        "        \n",
        "        # Determine a list of indices of outliers for feature col\n",
        "        outlier_list_col = df[(df[col] < Q1 - outlier_step) | \n",
        "                              (df[col] > Q3 + outlier_step )].index\n",
        "        # append the found outlier indices for col to the list of outlier indices \n",
        "        outlier_indices.extend(outlier_list_col)\n",
        "   \n",
        "        \n",
        "    # select observations containing more than 2 outliers\n",
        "    outlier_indices = Counter(outlier_indices)  \n",
        "\n",
        "    multiple_outliers = list( k for k, v in outlier_indices.items() if v > n )\n",
        "    return multiple_outliers   \n",
        "\n",
        "# detect outliers from \"Rating\",\"Reviews\",\"Size\",\"Installs\",\"Price\",\"Current Ver\",\"Android Ver\"\n",
        "Outliers_to_drop = detect_outliers(data,2,[\"vintage\",\"current_balance\",\"current_month_credit\",\"previous_month_credit\",\"average_monthly_balance_prevQ\",\"average_monthly_balance_prevQ2\",\"current_month_debit\"])"
      ],
      "execution_count": null,
      "outputs": []
    },
    {
      "cell_type": "code",
      "metadata": {
        "id": "3putFuii7pZ5",
        "colab": {
          "base_uri": "https://localhost:8080/",
          "height": 422
        },
        "outputId": "8e22415c-2104-4864-e953-ff7cf291a6a6"
      },
      "source": [
        "data.loc[Outliers_to_drop]"
      ],
      "execution_count": null,
      "outputs": [
        {
          "output_type": "execute_result",
          "data": {
            "text/html": [
              "<div>\n",
              "<style scoped>\n",
              "    .dataframe tbody tr th:only-of-type {\n",
              "        vertical-align: middle;\n",
              "    }\n",
              "\n",
              "    .dataframe tbody tr th {\n",
              "        vertical-align: top;\n",
              "    }\n",
              "\n",
              "    .dataframe thead th {\n",
              "        text-align: right;\n",
              "    }\n",
              "</style>\n",
              "<table border=\"1\" class=\"dataframe\">\n",
              "  <thead>\n",
              "    <tr style=\"text-align: right;\">\n",
              "      <th></th>\n",
              "      <th>customer_id</th>\n",
              "      <th>vintage</th>\n",
              "      <th>age</th>\n",
              "      <th>gender</th>\n",
              "      <th>dependents</th>\n",
              "      <th>occupation</th>\n",
              "      <th>city</th>\n",
              "      <th>customer_nw_category</th>\n",
              "      <th>branch_code</th>\n",
              "      <th>days_since_last_transaction</th>\n",
              "      <th>current_balance</th>\n",
              "      <th>previous_month_end_balance</th>\n",
              "      <th>average_monthly_balance_prevQ</th>\n",
              "      <th>average_monthly_balance_prevQ2</th>\n",
              "      <th>current_month_credit</th>\n",
              "      <th>previous_month_credit</th>\n",
              "      <th>current_month_debit</th>\n",
              "      <th>previous_month_debit</th>\n",
              "      <th>current_month_balance</th>\n",
              "      <th>previous_month_balance</th>\n",
              "      <th>churn</th>\n",
              "    </tr>\n",
              "  </thead>\n",
              "  <tbody>\n",
              "    <tr>\n",
              "      <th>11</th>\n",
              "      <td>13</td>\n",
              "      <td>7108</td>\n",
              "      <td>32</td>\n",
              "      <td>Male</td>\n",
              "      <td>0.000000</td>\n",
              "      <td>salaried</td>\n",
              "      <td>1096.0</td>\n",
              "      <td>1</td>\n",
              "      <td>89</td>\n",
              "      <td>20.0</td>\n",
              "      <td>6886.40</td>\n",
              "      <td>8372.64</td>\n",
              "      <td>9149.45</td>\n",
              "      <td>21007.52</td>\n",
              "      <td>7564.53</td>\n",
              "      <td>4550.24</td>\n",
              "      <td>9907.91</td>\n",
              "      <td>5161.96</td>\n",
              "      <td>8532.97</td>\n",
              "      <td>8072.33</td>\n",
              "      <td>0</td>\n",
              "    </tr>\n",
              "    <tr>\n",
              "      <th>94</th>\n",
              "      <td>98</td>\n",
              "      <td>8459</td>\n",
              "      <td>67</td>\n",
              "      <td>Female</td>\n",
              "      <td>0.000000</td>\n",
              "      <td>salaried</td>\n",
              "      <td>1574.0</td>\n",
              "      <td>2</td>\n",
              "      <td>1572</td>\n",
              "      <td>6.0</td>\n",
              "      <td>20741.22</td>\n",
              "      <td>18803.01</td>\n",
              "      <td>20449.11</td>\n",
              "      <td>16927.81</td>\n",
              "      <td>2780.11</td>\n",
              "      <td>2555.04</td>\n",
              "      <td>123.07</td>\n",
              "      <td>2000.03</td>\n",
              "      <td>21237.00</td>\n",
              "      <td>20533.91</td>\n",
              "      <td>0</td>\n",
              "    </tr>\n",
              "    <tr>\n",
              "      <th>494</th>\n",
              "      <td>528</td>\n",
              "      <td>7411</td>\n",
              "      <td>50</td>\n",
              "      <td>Male</td>\n",
              "      <td>0.000000</td>\n",
              "      <td>self_employed</td>\n",
              "      <td>1150.0</td>\n",
              "      <td>3</td>\n",
              "      <td>108</td>\n",
              "      <td>5.0</td>\n",
              "      <td>4987.93</td>\n",
              "      <td>5582.38</td>\n",
              "      <td>4625.73</td>\n",
              "      <td>4065.48</td>\n",
              "      <td>2585.79</td>\n",
              "      <td>2030.74</td>\n",
              "      <td>16032.80</td>\n",
              "      <td>2271.69</td>\n",
              "      <td>4541.48</td>\n",
              "      <td>4964.76</td>\n",
              "      <td>0</td>\n",
              "    </tr>\n",
              "    <tr>\n",
              "      <th>700</th>\n",
              "      <td>748</td>\n",
              "      <td>6369</td>\n",
              "      <td>42</td>\n",
              "      <td>Male</td>\n",
              "      <td>2.000000</td>\n",
              "      <td>salaried</td>\n",
              "      <td>1589.0</td>\n",
              "      <td>2</td>\n",
              "      <td>33</td>\n",
              "      <td>23.0</td>\n",
              "      <td>16704.74</td>\n",
              "      <td>16189.48</td>\n",
              "      <td>17082.13</td>\n",
              "      <td>17983.31</td>\n",
              "      <td>1083.80</td>\n",
              "      <td>1035.09</td>\n",
              "      <td>349.84</td>\n",
              "      <td>2444.32</td>\n",
              "      <td>16835.84</td>\n",
              "      <td>16769.03</td>\n",
              "      <td>0</td>\n",
              "    </tr>\n",
              "    <tr>\n",
              "      <th>759</th>\n",
              "      <td>810</td>\n",
              "      <td>6405</td>\n",
              "      <td>77</td>\n",
              "      <td>Male</td>\n",
              "      <td>0.000000</td>\n",
              "      <td>self_employed</td>\n",
              "      <td>1096.0</td>\n",
              "      <td>1</td>\n",
              "      <td>27</td>\n",
              "      <td>11.0</td>\n",
              "      <td>1165.51</td>\n",
              "      <td>1817.37</td>\n",
              "      <td>2923.33</td>\n",
              "      <td>10240.79</td>\n",
              "      <td>12041.84</td>\n",
              "      <td>6091.31</td>\n",
              "      <td>12693.69</td>\n",
              "      <td>7355.25</td>\n",
              "      <td>2961.10</td>\n",
              "      <td>2665.62</td>\n",
              "      <td>0</td>\n",
              "    </tr>\n",
              "    <tr>\n",
              "      <th>...</th>\n",
              "      <td>...</td>\n",
              "      <td>...</td>\n",
              "      <td>...</td>\n",
              "      <td>...</td>\n",
              "      <td>...</td>\n",
              "      <td>...</td>\n",
              "      <td>...</td>\n",
              "      <td>...</td>\n",
              "      <td>...</td>\n",
              "      <td>...</td>\n",
              "      <td>...</td>\n",
              "      <td>...</td>\n",
              "      <td>...</td>\n",
              "      <td>...</td>\n",
              "      <td>...</td>\n",
              "      <td>...</td>\n",
              "      <td>...</td>\n",
              "      <td>...</td>\n",
              "      <td>...</td>\n",
              "      <td>...</td>\n",
              "      <td>...</td>\n",
              "    </tr>\n",
              "    <tr>\n",
              "      <th>26284</th>\n",
              "      <td>28065</td>\n",
              "      <td>2078</td>\n",
              "      <td>41</td>\n",
              "      <td>Male</td>\n",
              "      <td>0.000000</td>\n",
              "      <td>salaried</td>\n",
              "      <td>1020.0</td>\n",
              "      <td>2</td>\n",
              "      <td>145</td>\n",
              "      <td>115.0</td>\n",
              "      <td>6797.41</td>\n",
              "      <td>14595.61</td>\n",
              "      <td>15254.19</td>\n",
              "      <td>24137.92</td>\n",
              "      <td>0.27</td>\n",
              "      <td>0.27</td>\n",
              "      <td>7749.67</td>\n",
              "      <td>1078.65</td>\n",
              "      <td>13921.99</td>\n",
              "      <td>15061.18</td>\n",
              "      <td>0</td>\n",
              "    </tr>\n",
              "    <tr>\n",
              "      <th>26968</th>\n",
              "      <td>28795</td>\n",
              "      <td>1279</td>\n",
              "      <td>90</td>\n",
              "      <td>Male</td>\n",
              "      <td>0.000000</td>\n",
              "      <td>self_employed</td>\n",
              "      <td>334.0</td>\n",
              "      <td>2</td>\n",
              "      <td>141</td>\n",
              "      <td>18.0</td>\n",
              "      <td>7762.52</td>\n",
              "      <td>15809.34</td>\n",
              "      <td>27693.16</td>\n",
              "      <td>45823.22</td>\n",
              "      <td>1100.36</td>\n",
              "      <td>1028.93</td>\n",
              "      <td>10060.03</td>\n",
              "      <td>24286.07</td>\n",
              "      <td>13208.42</td>\n",
              "      <td>30471.09</td>\n",
              "      <td>1</td>\n",
              "    </tr>\n",
              "    <tr>\n",
              "      <th>27351</th>\n",
              "      <td>29205</td>\n",
              "      <td>182</td>\n",
              "      <td>90</td>\n",
              "      <td>Male</td>\n",
              "      <td>0.347236</td>\n",
              "      <td>self_employed</td>\n",
              "      <td>1020.0</td>\n",
              "      <td>2</td>\n",
              "      <td>1573</td>\n",
              "      <td>80.0</td>\n",
              "      <td>722.29</td>\n",
              "      <td>72150.86</td>\n",
              "      <td>57372.33</td>\n",
              "      <td>50593.82</td>\n",
              "      <td>0.70</td>\n",
              "      <td>0.70</td>\n",
              "      <td>71429.27</td>\n",
              "      <td>0.70</td>\n",
              "      <td>27815.88</td>\n",
              "      <td>72150.86</td>\n",
              "      <td>1</td>\n",
              "    </tr>\n",
              "    <tr>\n",
              "      <th>27357</th>\n",
              "      <td>29211</td>\n",
              "      <td>2775</td>\n",
              "      <td>38</td>\n",
              "      <td>Male</td>\n",
              "      <td>2.000000</td>\n",
              "      <td>self_employed</td>\n",
              "      <td>575.0</td>\n",
              "      <td>1</td>\n",
              "      <td>176</td>\n",
              "      <td>19.0</td>\n",
              "      <td>10861.64</td>\n",
              "      <td>160847.99</td>\n",
              "      <td>112080.65</td>\n",
              "      <td>35786.10</td>\n",
              "      <td>1443.19</td>\n",
              "      <td>1386.04</td>\n",
              "      <td>158571.76</td>\n",
              "      <td>2580.33</td>\n",
              "      <td>63542.90</td>\n",
              "      <td>158048.34</td>\n",
              "      <td>0</td>\n",
              "    </tr>\n",
              "    <tr>\n",
              "      <th>27361</th>\n",
              "      <td>29215</td>\n",
              "      <td>4036</td>\n",
              "      <td>38</td>\n",
              "      <td>Male</td>\n",
              "      <td>0.000000</td>\n",
              "      <td>salaried</td>\n",
              "      <td>1327.0</td>\n",
              "      <td>1</td>\n",
              "      <td>1435</td>\n",
              "      <td>126.0</td>\n",
              "      <td>5990.79</td>\n",
              "      <td>15958.42</td>\n",
              "      <td>14293.33</td>\n",
              "      <td>13949.71</td>\n",
              "      <td>0.14</td>\n",
              "      <td>0.14</td>\n",
              "      <td>9953.48</td>\n",
              "      <td>1114.57</td>\n",
              "      <td>8219.34</td>\n",
              "      <td>16208.26</td>\n",
              "      <td>1</td>\n",
              "    </tr>\n",
              "  </tbody>\n",
              "</table>\n",
              "<p>3487 rows × 21 columns</p>\n",
              "</div>"
            ],
            "text/plain": [
              "       customer_id  vintage  ...  previous_month_balance churn\n",
              "11              13     7108  ...                 8072.33     0\n",
              "94              98     8459  ...                20533.91     0\n",
              "494            528     7411  ...                 4964.76     0\n",
              "700            748     6369  ...                16769.03     0\n",
              "759            810     6405  ...                 2665.62     0\n",
              "...            ...      ...  ...                     ...   ...\n",
              "26284        28065     2078  ...                15061.18     0\n",
              "26968        28795     1279  ...                30471.09     1\n",
              "27351        29205      182  ...                72150.86     1\n",
              "27357        29211     2775  ...               158048.34     0\n",
              "27361        29215     4036  ...                16208.26     1\n",
              "\n",
              "[3487 rows x 21 columns]"
            ]
          },
          "metadata": {
            "tags": []
          },
          "execution_count": 57
        }
      ]
    },
    {
      "cell_type": "code",
      "metadata": {
        "id": "UrK9X5S-7tFx"
      },
      "source": [
        "train = data.drop(Outliers_to_drop, axis = 0).reset_index(drop=True)"
      ],
      "execution_count": null,
      "outputs": []
    },
    {
      "cell_type": "code",
      "metadata": {
        "id": "kf6Wuz9ZPeRZ"
      },
      "source": [
        "#HYPOTHESES TESTING 1\n",
        "#Lets say we consider the following hypotheses\n",
        "#NULL HYPOTHESES: The number of dependents doesn't have an impact on the current balance\n",
        "#ALTERNATE HYPOTHESES: The number of dependents has an impact on the current balance"
      ],
      "execution_count": null,
      "outputs": []
    },
    {
      "cell_type": "code",
      "metadata": {
        "id": "yWwucUXQe3Ji"
      },
      "source": [
        "no_imp = np.array([np.mean(data[data[\"dependents\"]==0].sample(20)[\"current_balance\"].values) for i in range(100)])\n",
        "yes_imp = np.array([np.mean(data[data[\"dependents\"]==1].sample(20)[\"current_balance\"].values) for i in range(100)])"
      ],
      "execution_count": null,
      "outputs": []
    },
    {
      "cell_type": "code",
      "metadata": {
        "id": "IFtsSC76Yltw",
        "colab": {
          "base_uri": "https://localhost:8080/",
          "height": 491
        },
        "outputId": "78e9be05-55d0-4bd7-f58c-9391b0a404ca"
      },
      "source": [
        "plt.subplots(1, 2, figsize = (10, 6))\n",
        "plt.subplot(1,2, 1)\n",
        "sns.distplot(no_imp)\n",
        "plt.title(\"NO IMPACT\")\n",
        "plt.xlabel(\"Current balance\")\n",
        "plt.ylabel(\"Frequency\")\n",
        "plt.subplot(1, 2, 2)\n",
        "sns.distplot(yes_imp)\n",
        "plt.title(\"HAS IMPACT\")\n",
        "plt.xlabel(\"Current balance\")\n",
        "plt.ylabel(\"Frequency\")\n",
        "plt.show()"
      ],
      "execution_count": null,
      "outputs": [
        {
          "output_type": "stream",
          "text": [
            "/usr/local/lib/python3.6/dist-packages/seaborn/distributions.py:2551: FutureWarning: `distplot` is a deprecated function and will be removed in a future version. Please adapt your code to use either `displot` (a figure-level function with similar flexibility) or `histplot` (an axes-level function for histograms).\n",
            "  warnings.warn(msg, FutureWarning)\n",
            "/usr/local/lib/python3.6/dist-packages/seaborn/distributions.py:2551: FutureWarning: `distplot` is a deprecated function and will be removed in a future version. Please adapt your code to use either `displot` (a figure-level function with similar flexibility) or `histplot` (an axes-level function for histograms).\n",
            "  warnings.warn(msg, FutureWarning)\n"
          ],
          "name": "stderr"
        },
        {
          "output_type": "display_data",
          "data": {
            "image/png": "[encoded data removed]",
            "text/plain": [
              "<Figure size 720x432 with 2 Axes>"
            ]
          },
          "metadata": {
            "tags": [],
            "needs_background": "light"
          }
        }
      ]
    },
    {
      "cell_type": "code",
      "metadata": {
        "id": "oJqZ-h8mZmsq",
        "colab": {
          "base_uri": "https://localhost:8080/"
        },
        "outputId": "87b0e77a-3aa1-4c1d-a1e9-809c84afe936"
      },
      "source": [
        "#Calculating the z score\n",
        "effect = np.mean(no_imp) - np.mean(yes_imp)\n",
        "sigma_noimp = np.std(no_imp)    #np.std calculates the standarad deviation\n",
        "sigma_yesimp = np.std(yes_imp)\n",
        "sigma_difference = np.sqrt((sigma_noimp**2)/len(no_imp)  +  (sigma_yesimp**2)/len(yes_imp))\n",
        "z_score = effect / sigma_difference\n",
        "z_score"
      ],
      "execution_count": null,
      "outputs": [
        {
          "output_type": "execute_result",
          "data": {
            "text/plain": [
              "-0.2291572601121453"
            ]
          },
          "metadata": {
            "tags": []
          },
          "execution_count": 65
        }
      ]
    },
    {
      "cell_type": "code",
      "metadata": {
        "id": "4SJqfcJpaKqM",
        "colab": {
          "base_uri": "https://localhost:8080/"
        },
        "outputId": "50c10d2b-2154-4a04-99f5-0f5295775c28"
      },
      "source": [
        "from scipy import stats\n",
        "\n",
        "#To find p-value (2 tailed test)\n",
        "p_value=stats.norm.sf(abs(z_score))*2\n",
        "p_value"
      ],
      "execution_count": null,
      "outputs": [
        {
          "output_type": "execute_result",
          "data": {
            "text/plain": [
              "0.8187466901809284"
            ]
          },
          "metadata": {
            "tags": []
          },
          "execution_count": 66
        }
      ]
    },
    {
      "cell_type": "code",
      "metadata": {
        "id": "WVOcw8XNaPW4",
        "colab": {
          "base_uri": "https://localhost:8080/"
        },
        "outputId": "b259e992-58e5-41a9-a0d4-36fbb6b24950"
      },
      "source": [
        "#Setting significance level to 0.05:\n",
        "p_value<0.05"
      ],
      "execution_count": null,
      "outputs": [
        {
          "output_type": "execute_result",
          "data": {
            "text/plain": [
              "False"
            ]
          },
          "metadata": {
            "tags": []
          },
          "execution_count": 67
        }
      ]
    },
    {
      "cell_type": "code",
      "metadata": {
        "id": "9oMfWW-4aVDv"
      },
      "source": [
        "#Since p value is greater than the significance level, we do not reject the null hypotheses.\n",
        "#The null hypotheses is plausible"
      ],
      "execution_count": null,
      "outputs": []
    },
    {
      "cell_type": "code",
      "metadata": {
        "id": "0NybbANoa9NV"
      },
      "source": [
        "#HYPOTHESES TESTING 2\n",
        "#Lets say we consider the following hypotheses\n",
        "#NULL HYPOTHESES: Churn doesn't have an impact on previous month credit\n",
        "#ALTERNATE HYPOTHESES: Churn has an impact on previous month credit"
      ],
      "execution_count": null,
      "outputs": []
    },
    {
      "cell_type": "code",
      "metadata": {
        "id": "Sec3Fb_zcQX_"
      },
      "source": [
        "import numpy as np\n",
        "no_imp = np.array([np.mean(data[data[\"churn\"]==0].sample(20)[\"previous_month_credit\"].values) for i in range(100)])\n",
        "yes_imp = np.array([np.mean(data[data[\"churn\"]==1].sample(20)[\"previous_month_credit\"].values) for i in range(100)])"
      ],
      "execution_count": null,
      "outputs": []
    },
    {
      "cell_type": "code",
      "metadata": {
        "id": "CAFOU5Vtc5M1",
        "colab": {
          "base_uri": "https://localhost:8080/",
          "height": 491
        },
        "outputId": "ebaf0757-23a0-473a-d902-d3858b29d52f"
      },
      "source": [
        "plt.subplots(1, 2, figsize = (10, 6))\n",
        "plt.subplot(1,2, 1)\n",
        "sns.distplot(no_imp)\n",
        "plt.title(\"NO IMPACT\")\n",
        "plt.xlabel(\"Previous month credit\")\n",
        "plt.ylabel(\"Frequency\")\n",
        "plt.subplot(1, 2, 2)\n",
        "sns.distplot(yes_imp)\n",
        "plt.title(\"HAS IMPACT\")\n",
        "plt.xlabel(\"Previous month credit\")\n",
        "plt.ylabel(\"Frequency\")\n",
        "plt.show()"
      ],
      "execution_count": null,
      "outputs": [
        {
          "output_type": "stream",
          "text": [
            "/usr/local/lib/python3.6/dist-packages/seaborn/distributions.py:2551: FutureWarning: `distplot` is a deprecated function and will be removed in a future version. Please adapt your code to use either `displot` (a figure-level function with similar flexibility) or `histplot` (an axes-level function for histograms).\n",
            "  warnings.warn(msg, FutureWarning)\n",
            "/usr/local/lib/python3.6/dist-packages/seaborn/distributions.py:2551: FutureWarning: `distplot` is a deprecated function and will be removed in a future version. Please adapt your code to use either `displot` (a figure-level function with similar flexibility) or `histplot` (an axes-level function for histograms).\n",
            "  warnings.warn(msg, FutureWarning)\n"
          ],
          "name": "stderr"
        },
        {
          "output_type": "display_data",
          "data": {
            "image/png": "[encoded data removed]",
            "text/plain": [
              "<Figure size 720x432 with 2 Axes>"
            ]
          },
          "metadata": {
            "tags": [],
            "needs_background": "light"
          }
        }
      ]
    },
    {
      "cell_type": "code",
      "metadata": {
        "id": "F87Y2kqT1zkS",
        "colab": {
          "base_uri": "https://localhost:8080/"
        },
        "outputId": "3743ab89-0807-44c0-d8b3-1862197d22c1"
      },
      "source": [
        "#Calculating the z score\n",
        "effect = np.mean(no_imp) - np.mean(yes_imp)\n",
        "sigma_noimp = np.std(no_imp)\n",
        "sigma_yesimp = np.std(yes_imp)\n",
        "sigma_difference = np.sqrt((sigma_noimp**2)/len(no_imp)  +  (sigma_yesimp**2)/len(yes_imp))\n",
        "z_score = effect / sigma_difference\n",
        "z_score"
      ],
      "execution_count": null,
      "outputs": [
        {
          "output_type": "execute_result",
          "data": {
            "text/plain": [
              "-4.978681280752458"
            ]
          },
          "metadata": {
            "tags": []
          },
          "execution_count": 20
        }
      ]
    },
    {
      "cell_type": "code",
      "metadata": {
        "id": "WFEMfaWN2Byb",
        "colab": {
          "base_uri": "https://localhost:8080/"
        },
        "outputId": "3c8128a6-5b7e-44c9-fc2c-f3e2b9dad8fa"
      },
      "source": [
        "from scipy import stats\n",
        "\n",
        "#To find p-value (2 tailed test)\n",
        "p_value=stats.norm.sf(abs(z_score))*2\n",
        "p_value"
      ],
      "execution_count": null,
      "outputs": [
        {
          "output_type": "execute_result",
          "data": {
            "text/plain": [
              "6.401896426907659e-07"
            ]
          },
          "metadata": {
            "tags": []
          },
          "execution_count": 21
        }
      ]
    },
    {
      "cell_type": "code",
      "metadata": {
        "id": "mI8AFIwa2HXW",
        "colab": {
          "base_uri": "https://localhost:8080/"
        },
        "outputId": "34ef260d-4d7e-43ee-ed12-2e6b6a3eda21"
      },
      "source": [
        "#Setting significance level to 0.05:\n",
        "p_value<0.05\n"
      ],
      "execution_count": null,
      "outputs": [
        {
          "output_type": "execute_result",
          "data": {
            "text/plain": [
              "True"
            ]
          },
          "metadata": {
            "tags": []
          },
          "execution_count": 22
        }
      ]
    },
    {
      "cell_type": "code",
      "metadata": {
        "id": "gKBd_CwE2Mka"
      },
      "source": [
        "#Since p value is less than 0.05(significance level), we reject the null hypotheses\n",
        "#Thus, we can conclude that churn has an impact on the previous month credit"
      ],
      "execution_count": null,
      "outputs": []
    },
    {
      "cell_type": "code",
      "metadata": {
        "id": "VpHJXDo0F1OF",
        "colab": {
          "base_uri": "https://localhost:8080/",
          "height": 1000
        },
        "outputId": "57020455-a9c1-48dd-87c4-2a9d3fd5b9c9"
      },
      "source": [
        "newdata = data.drop(data.columns[0],axis=1)\n",
        "print(\"\\nMean :-\\n\")\n",
        "mean=newdata.mean()\n",
        "print(mean)\n",
        "print(\"\\nvariance-\\n\")\n",
        "var=newdata.var()\n",
        "print(var)\n",
        "newdata"
      ],
      "execution_count": null,
      "outputs": [
        {
          "output_type": "stream",
          "text": [
            "\n",
            "Mean :-\n",
            "\n",
            "vintage                           2364.336446\n",
            "age                                 48.208336\n",
            "dependents                           0.347236\n",
            "city                               796.312170\n",
            "customer_nw_category                 2.225530\n",
            "branch_code                        925.975019\n",
            "days_since_last_transaction         65.455747\n",
            "current_balance                   7380.551804\n",
            "previous_month_end_balance        7495.770548\n",
            "average_monthly_balance_prevQ     7496.779856\n",
            "average_monthly_balance_prevQ2    7124.209162\n",
            "current_month_credit              3433.252240\n",
            "previous_month_credit             3261.694458\n",
            "current_month_debit               3658.744549\n",
            "previous_month_debit              3339.761353\n",
            "current_month_balance             7451.132765\n",
            "previous_month_balance            7495.177129\n",
            "churn                                0.185329\n",
            "dtype: float64\n",
            "\n",
            "variance-\n",
            "\n",
            "vintage                           2.592501e+06\n",
            "age                               3.170951e+02\n",
            "dependents                        9.089489e-01\n",
            "city                              1.873026e+05\n",
            "customer_nw_category              4.361855e-01\n",
            "branch_code                       8.794672e+05\n",
            "days_since_last_transaction       6.769254e+03\n",
            "current_balance                   1.814650e+09\n",
            "previous_month_end_balance        1.808745e+09\n",
            "average_monthly_balance_prevQ     1.741077e+09\n",
            "average_monthly_balance_prevQ2    1.987003e+09\n",
            "current_month_credit              5.940009e+09\n",
            "previous_month_credit             8.814301e+08\n",
            "current_month_debit               2.702484e+09\n",
            "previous_month_debit              5.905440e+08\n",
            "current_month_balance             1.766852e+09\n",
            "previous_month_balance            1.800473e+09\n",
            "churn                             1.509873e-01\n",
            "dtype: float64\n"
          ],
          "name": "stdout"
        },
        {
          "output_type": "execute_result",
          "data": {
            "text/html": [
              "<div>\n",
              "<style scoped>\n",
              "    .dataframe tbody tr th:only-of-type {\n",
              "        vertical-align: middle;\n",
              "    }\n",
              "\n",
              "    .dataframe tbody tr th {\n",
              "        vertical-align: top;\n",
              "    }\n",
              "\n",
              "    .dataframe thead th {\n",
              "        text-align: right;\n",
              "    }\n",
              "</style>\n",
              "<table border=\"1\" class=\"dataframe\">\n",
              "  <thead>\n",
              "    <tr style=\"text-align: right;\">\n",
              "      <th></th>\n",
              "      <th>vintage</th>\n",
              "      <th>age</th>\n",
              "      <th>gender</th>\n",
              "      <th>dependents</th>\n",
              "      <th>occupation</th>\n",
              "      <th>city</th>\n",
              "      <th>customer_nw_category</th>\n",
              "      <th>branch_code</th>\n",
              "      <th>days_since_last_transaction</th>\n",
              "      <th>current_balance</th>\n",
              "      <th>previous_month_end_balance</th>\n",
              "      <th>average_monthly_balance_prevQ</th>\n",
              "      <th>average_monthly_balance_prevQ2</th>\n",
              "      <th>current_month_credit</th>\n",
              "      <th>previous_month_credit</th>\n",
              "      <th>current_month_debit</th>\n",
              "      <th>previous_month_debit</th>\n",
              "      <th>current_month_balance</th>\n",
              "      <th>previous_month_balance</th>\n",
              "      <th>churn</th>\n",
              "    </tr>\n",
              "  </thead>\n",
              "  <tbody>\n",
              "    <tr>\n",
              "      <th>0</th>\n",
              "      <td>3135</td>\n",
              "      <td>66</td>\n",
              "      <td>Male</td>\n",
              "      <td>0.000000</td>\n",
              "      <td>self_employed</td>\n",
              "      <td>187.0</td>\n",
              "      <td>2</td>\n",
              "      <td>755</td>\n",
              "      <td>224.0</td>\n",
              "      <td>1458.71</td>\n",
              "      <td>1458.71</td>\n",
              "      <td>1458.71</td>\n",
              "      <td>1449.07</td>\n",
              "      <td>0.20</td>\n",
              "      <td>0.20</td>\n",
              "      <td>0.20</td>\n",
              "      <td>0.20</td>\n",
              "      <td>1458.71</td>\n",
              "      <td>1458.71</td>\n",
              "      <td>0</td>\n",
              "    </tr>\n",
              "    <tr>\n",
              "      <th>1</th>\n",
              "      <td>310</td>\n",
              "      <td>35</td>\n",
              "      <td>Male</td>\n",
              "      <td>0.000000</td>\n",
              "      <td>self_employed</td>\n",
              "      <td>187.0</td>\n",
              "      <td>2</td>\n",
              "      <td>3214</td>\n",
              "      <td>60.0</td>\n",
              "      <td>5390.37</td>\n",
              "      <td>8704.66</td>\n",
              "      <td>7799.26</td>\n",
              "      <td>12419.41</td>\n",
              "      <td>0.56</td>\n",
              "      <td>0.56</td>\n",
              "      <td>5486.27</td>\n",
              "      <td>100.56</td>\n",
              "      <td>6496.78</td>\n",
              "      <td>8787.61</td>\n",
              "      <td>0</td>\n",
              "    </tr>\n",
              "    <tr>\n",
              "      <th>2</th>\n",
              "      <td>2356</td>\n",
              "      <td>31</td>\n",
              "      <td>Male</td>\n",
              "      <td>0.000000</td>\n",
              "      <td>salaried</td>\n",
              "      <td>146.0</td>\n",
              "      <td>2</td>\n",
              "      <td>41</td>\n",
              "      <td>30.0</td>\n",
              "      <td>3913.16</td>\n",
              "      <td>5815.29</td>\n",
              "      <td>4910.17</td>\n",
              "      <td>2815.94</td>\n",
              "      <td>0.61</td>\n",
              "      <td>0.61</td>\n",
              "      <td>6046.73</td>\n",
              "      <td>259.23</td>\n",
              "      <td>5006.28</td>\n",
              "      <td>5070.14</td>\n",
              "      <td>0</td>\n",
              "    </tr>\n",
              "    <tr>\n",
              "      <th>3</th>\n",
              "      <td>478</td>\n",
              "      <td>90</td>\n",
              "      <td>Male</td>\n",
              "      <td>0.347236</td>\n",
              "      <td>self_employed</td>\n",
              "      <td>1020.0</td>\n",
              "      <td>2</td>\n",
              "      <td>582</td>\n",
              "      <td>147.0</td>\n",
              "      <td>2291.91</td>\n",
              "      <td>2291.91</td>\n",
              "      <td>2084.54</td>\n",
              "      <td>1006.54</td>\n",
              "      <td>0.47</td>\n",
              "      <td>0.47</td>\n",
              "      <td>0.47</td>\n",
              "      <td>2143.33</td>\n",
              "      <td>2291.91</td>\n",
              "      <td>1669.79</td>\n",
              "      <td>1</td>\n",
              "    </tr>\n",
              "    <tr>\n",
              "      <th>4</th>\n",
              "      <td>2531</td>\n",
              "      <td>42</td>\n",
              "      <td>Male</td>\n",
              "      <td>2.000000</td>\n",
              "      <td>self_employed</td>\n",
              "      <td>1494.0</td>\n",
              "      <td>3</td>\n",
              "      <td>388</td>\n",
              "      <td>58.0</td>\n",
              "      <td>927.72</td>\n",
              "      <td>1401.72</td>\n",
              "      <td>1643.31</td>\n",
              "      <td>1871.12</td>\n",
              "      <td>0.33</td>\n",
              "      <td>714.61</td>\n",
              "      <td>588.62</td>\n",
              "      <td>1538.06</td>\n",
              "      <td>1157.15</td>\n",
              "      <td>1677.16</td>\n",
              "      <td>1</td>\n",
              "    </tr>\n",
              "    <tr>\n",
              "      <th>...</th>\n",
              "      <td>...</td>\n",
              "      <td>...</td>\n",
              "      <td>...</td>\n",
              "      <td>...</td>\n",
              "      <td>...</td>\n",
              "      <td>...</td>\n",
              "      <td>...</td>\n",
              "      <td>...</td>\n",
              "      <td>...</td>\n",
              "      <td>...</td>\n",
              "      <td>...</td>\n",
              "      <td>...</td>\n",
              "      <td>...</td>\n",
              "      <td>...</td>\n",
              "      <td>...</td>\n",
              "      <td>...</td>\n",
              "      <td>...</td>\n",
              "      <td>...</td>\n",
              "      <td>...</td>\n",
              "      <td>...</td>\n",
              "    </tr>\n",
              "    <tr>\n",
              "      <th>28377</th>\n",
              "      <td>1845</td>\n",
              "      <td>10</td>\n",
              "      <td>Female</td>\n",
              "      <td>0.000000</td>\n",
              "      <td>student</td>\n",
              "      <td>1020.0</td>\n",
              "      <td>2</td>\n",
              "      <td>1207</td>\n",
              "      <td>70.0</td>\n",
              "      <td>1076.43</td>\n",
              "      <td>1076.43</td>\n",
              "      <td>2282.19</td>\n",
              "      <td>2787.70</td>\n",
              "      <td>0.30</td>\n",
              "      <td>0.30</td>\n",
              "      <td>0.30</td>\n",
              "      <td>0.30</td>\n",
              "      <td>1076.43</td>\n",
              "      <td>1076.43</td>\n",
              "      <td>0</td>\n",
              "    </tr>\n",
              "    <tr>\n",
              "      <th>28378</th>\n",
              "      <td>4919</td>\n",
              "      <td>34</td>\n",
              "      <td>Female</td>\n",
              "      <td>0.000000</td>\n",
              "      <td>self_employed</td>\n",
              "      <td>1046.0</td>\n",
              "      <td>2</td>\n",
              "      <td>223</td>\n",
              "      <td>14.0</td>\n",
              "      <td>3844.10</td>\n",
              "      <td>4069.21</td>\n",
              "      <td>3668.83</td>\n",
              "      <td>3865.55</td>\n",
              "      <td>1.71</td>\n",
              "      <td>2.29</td>\n",
              "      <td>901.00</td>\n",
              "      <td>1014.07</td>\n",
              "      <td>3738.54</td>\n",
              "      <td>3690.32</td>\n",
              "      <td>0</td>\n",
              "    </tr>\n",
              "    <tr>\n",
              "      <th>28379</th>\n",
              "      <td>297</td>\n",
              "      <td>47</td>\n",
              "      <td>Male</td>\n",
              "      <td>0.000000</td>\n",
              "      <td>salaried</td>\n",
              "      <td>1096.0</td>\n",
              "      <td>2</td>\n",
              "      <td>588</td>\n",
              "      <td>0.0</td>\n",
              "      <td>65511.97</td>\n",
              "      <td>61017.55</td>\n",
              "      <td>53444.81</td>\n",
              "      <td>21925.81</td>\n",
              "      <td>4666.84</td>\n",
              "      <td>3883.06</td>\n",
              "      <td>168.23</td>\n",
              "      <td>71.80</td>\n",
              "      <td>61078.50</td>\n",
              "      <td>57564.24</td>\n",
              "      <td>1</td>\n",
              "    </tr>\n",
              "    <tr>\n",
              "      <th>28380</th>\n",
              "      <td>2585</td>\n",
              "      <td>50</td>\n",
              "      <td>Male</td>\n",
              "      <td>3.000000</td>\n",
              "      <td>self_employed</td>\n",
              "      <td>1219.0</td>\n",
              "      <td>3</td>\n",
              "      <td>274</td>\n",
              "      <td>30.0</td>\n",
              "      <td>1625.55</td>\n",
              "      <td>1625.55</td>\n",
              "      <td>1683.20</td>\n",
              "      <td>1857.42</td>\n",
              "      <td>0.20</td>\n",
              "      <td>0.20</td>\n",
              "      <td>0.20</td>\n",
              "      <td>0.20</td>\n",
              "      <td>1625.55</td>\n",
              "      <td>1625.55</td>\n",
              "      <td>0</td>\n",
              "    </tr>\n",
              "    <tr>\n",
              "      <th>28381</th>\n",
              "      <td>2349</td>\n",
              "      <td>18</td>\n",
              "      <td>Male</td>\n",
              "      <td>0.000000</td>\n",
              "      <td>student</td>\n",
              "      <td>1232.0</td>\n",
              "      <td>2</td>\n",
              "      <td>474</td>\n",
              "      <td>59.0</td>\n",
              "      <td>2107.05</td>\n",
              "      <td>2821.34</td>\n",
              "      <td>3213.44</td>\n",
              "      <td>4447.45</td>\n",
              "      <td>0.11</td>\n",
              "      <td>7.44</td>\n",
              "      <td>714.40</td>\n",
              "      <td>1094.09</td>\n",
              "      <td>2402.62</td>\n",
              "      <td>3260.58</td>\n",
              "      <td>1</td>\n",
              "    </tr>\n",
              "  </tbody>\n",
              "</table>\n",
              "<p>28382 rows × 20 columns</p>\n",
              "</div>"
            ],
            "text/plain": [
              "       vintage  age  ... previous_month_balance  churn\n",
              "0         3135   66  ...                1458.71      0\n",
              "1          310   35  ...                8787.61      0\n",
              "2         2356   31  ...                5070.14      0\n",
              "3          478   90  ...                1669.79      1\n",
              "4         2531   42  ...                1677.16      1\n",
              "...        ...  ...  ...                    ...    ...\n",
              "28377     1845   10  ...                1076.43      0\n",
              "28378     4919   34  ...                3690.32      0\n",
              "28379      297   47  ...               57564.24      1\n",
              "28380     2585   50  ...                1625.55      0\n",
              "28381     2349   18  ...                3260.58      1\n",
              "\n",
              "[28382 rows x 20 columns]"
            ]
          },
          "metadata": {
            "tags": []
          },
          "execution_count": 73
        }
      ]
    },
    {
      "cell_type": "code",
      "metadata": {
        "id": "uRL0EMisHmWm",
        "colab": {
          "base_uri": "https://localhost:8080/",
          "height": 1000
        },
        "outputId": "29f489cb-c5a8-4bc5-c9ed-f691bdc97192"
      },
      "source": [
        "newset=data.drop(data.columns[0],axis=1)\n",
        "x_data=newset[['vintage','age','dependents','city','customer_nw_category','branch_code','days_since_last_transaction','current_balance','previous_month_end_balance','average_monthly_balance_prevQ','average_monthly_balance_prevQ2','current_month_credit','previous_month_credit','current_month_debit','previous_month_debit','current_month_balance','previous_month_balance','churn']]\n",
        "x_data=x_data.apply(lambda x:(x-x.mean(axis=0))/x.std(axis=0))\n",
        "print(\"\\nmean after normalisation-\\n\")\n",
        "print(x_data.mean())\n",
        "print(\"\\n variance after normalisation: \\n\")\n",
        "print(x_data.var())\n",
        "x_data"
      ],
      "execution_count": null,
      "outputs": [
        {
          "output_type": "stream",
          "text": [
            "\n",
            "mean after norm-\n",
            "\n",
            "vintage                           1.079933e-17\n",
            "age                              -3.846781e-17\n",
            "dependents                       -1.013780e-15\n",
            "city                             -2.936916e-17\n",
            "customer_nw_category             -6.977092e-16\n",
            "branch_code                      -4.207050e-17\n",
            "days_since_last_transaction       4.295547e-16\n",
            "current_balance                   2.069508e-16\n",
            "previous_month_end_balance        1.038827e-15\n",
            "average_monthly_balance_prevQ     2.264942e-16\n",
            "average_monthly_balance_prevQ2   -1.008098e-17\n",
            "current_month_credit             -7.799285e-16\n",
            "previous_month_credit            -7.381695e-16\n",
            "current_month_debit              -6.614539e-16\n",
            "previous_month_debit             -1.889916e-16\n",
            "current_month_balance             5.793133e-16\n",
            "previous_month_balance            9.691685e-16\n",
            "churn                             8.479660e-16\n",
            "dtype: float64\n",
            "\n",
            " var : \n",
            "\n",
            "vintage                           1.0\n",
            "age                               1.0\n",
            "dependents                        1.0\n",
            "city                              1.0\n",
            "customer_nw_category              1.0\n",
            "branch_code                       1.0\n",
            "days_since_last_transaction       1.0\n",
            "current_balance                   1.0\n",
            "previous_month_end_balance        1.0\n",
            "average_monthly_balance_prevQ     1.0\n",
            "average_monthly_balance_prevQ2    1.0\n",
            "current_month_credit              1.0\n",
            "previous_month_credit             1.0\n",
            "current_month_debit               1.0\n",
            "previous_month_debit              1.0\n",
            "current_month_balance             1.0\n",
            "previous_month_balance            1.0\n",
            "churn                             1.0\n",
            "dtype: float64\n"
          ],
          "name": "stdout"
        },
        {
          "output_type": "execute_result",
          "data": {
            "text/html": [
              "<div>\n",
              "<style scoped>\n",
              "    .dataframe tbody tr th:only-of-type {\n",
              "        vertical-align: middle;\n",
              "    }\n",
              "\n",
              "    .dataframe tbody tr th {\n",
              "        vertical-align: top;\n",
              "    }\n",
              "\n",
              "    .dataframe thead th {\n",
              "        text-align: right;\n",
              "    }\n",
              "</style>\n",
              "<table border=\"1\" class=\"dataframe\">\n",
              "  <thead>\n",
              "    <tr style=\"text-align: right;\">\n",
              "      <th></th>\n",
              "      <th>vintage</th>\n",
              "      <th>age</th>\n",
              "      <th>dependents</th>\n",
              "      <th>city</th>\n",
              "      <th>customer_nw_category</th>\n",
              "      <th>branch_code</th>\n",
              "      <th>days_since_last_transaction</th>\n",
              "      <th>current_balance</th>\n",
              "      <th>previous_month_end_balance</th>\n",
              "      <th>average_monthly_balance_prevQ</th>\n",
              "      <th>average_monthly_balance_prevQ2</th>\n",
              "      <th>current_month_credit</th>\n",
              "      <th>previous_month_credit</th>\n",
              "      <th>current_month_debit</th>\n",
              "      <th>previous_month_debit</th>\n",
              "      <th>current_month_balance</th>\n",
              "      <th>previous_month_balance</th>\n",
              "      <th>churn</th>\n",
              "    </tr>\n",
              "  </thead>\n",
              "  <tbody>\n",
              "    <tr>\n",
              "      <th>0</th>\n",
              "      <td>0.478636</td>\n",
              "      <td>0.999130</td>\n",
              "      <td>-3.642122e-01</td>\n",
              "      <td>-1.407888</td>\n",
              "      <td>-0.341483</td>\n",
              "      <td>-0.182315</td>\n",
              "      <td>1.926993</td>\n",
              "      <td>-0.139015</td>\n",
              "      <td>-0.141950</td>\n",
              "      <td>-0.144707</td>\n",
              "      <td>-0.127314</td>\n",
              "      <td>-0.044544</td>\n",
              "      <td>-0.109856</td>\n",
              "      <td>-0.070376</td>\n",
              "      <td>-0.137424</td>\n",
              "      <td>-0.142562</td>\n",
              "      <td>-0.142262</td>\n",
              "      <td>-0.476950</td>\n",
              "    </tr>\n",
              "    <tr>\n",
              "      <th>1</th>\n",
              "      <td>-1.275887</td>\n",
              "      <td>-0.741743</td>\n",
              "      <td>-3.642122e-01</td>\n",
              "      <td>-1.407888</td>\n",
              "      <td>-0.341483</td>\n",
              "      <td>2.439782</td>\n",
              "      <td>-0.066311</td>\n",
              "      <td>-0.046719</td>\n",
              "      <td>0.028425</td>\n",
              "      <td>0.007249</td>\n",
              "      <td>0.118791</td>\n",
              "      <td>-0.044539</td>\n",
              "      <td>-0.109844</td>\n",
              "      <td>0.035155</td>\n",
              "      <td>-0.133294</td>\n",
              "      <td>-0.022704</td>\n",
              "      <td>0.030459</td>\n",
              "      <td>-0.476950</td>\n",
              "    </tr>\n",
              "    <tr>\n",
              "      <th>2</th>\n",
              "      <td>-0.005178</td>\n",
              "      <td>-0.966372</td>\n",
              "      <td>-3.642122e-01</td>\n",
              "      <td>-1.502623</td>\n",
              "      <td>-0.341483</td>\n",
              "      <td>-0.943672</td>\n",
              "      <td>-0.430939</td>\n",
              "      <td>-0.081397</td>\n",
              "      <td>-0.039513</td>\n",
              "      <td>-0.061990</td>\n",
              "      <td>-0.096650</td>\n",
              "      <td>-0.044538</td>\n",
              "      <td>-0.109842</td>\n",
              "      <td>0.045936</td>\n",
              "      <td>-0.126765</td>\n",
              "      <td>-0.058164</td>\n",
              "      <td>-0.057151</td>\n",
              "      <td>-0.476950</td>\n",
              "    </tr>\n",
              "    <tr>\n",
              "      <th>3</th>\n",
              "      <td>-1.171547</td>\n",
              "      <td>2.346902</td>\n",
              "      <td>-3.085932e-15</td>\n",
              "      <td>0.516857</td>\n",
              "      <td>-0.341483</td>\n",
              "      <td>-0.366790</td>\n",
              "      <td>0.991113</td>\n",
              "      <td>-0.119455</td>\n",
              "      <td>-0.122359</td>\n",
              "      <td>-0.129708</td>\n",
              "      <td>-0.137242</td>\n",
              "      <td>-0.044540</td>\n",
              "      <td>-0.109847</td>\n",
              "      <td>-0.070371</td>\n",
              "      <td>-0.049234</td>\n",
              "      <td>-0.122739</td>\n",
              "      <td>-0.137288</td>\n",
              "      <td>2.096584</td>\n",
              "    </tr>\n",
              "    <tr>\n",
              "      <th>4</th>\n",
              "      <td>0.103510</td>\n",
              "      <td>-0.348643</td>\n",
              "      <td>1.733569e+00</td>\n",
              "      <td>1.612090</td>\n",
              "      <td>1.172651</td>\n",
              "      <td>-0.573657</td>\n",
              "      <td>-0.090619</td>\n",
              "      <td>-0.151480</td>\n",
              "      <td>-0.143290</td>\n",
              "      <td>-0.140283</td>\n",
              "      <td>-0.117846</td>\n",
              "      <td>-0.044542</td>\n",
              "      <td>-0.085793</td>\n",
              "      <td>-0.059057</td>\n",
              "      <td>-0.074141</td>\n",
              "      <td>-0.149736</td>\n",
              "      <td>-0.137114</td>\n",
              "      <td>2.096584</td>\n",
              "    </tr>\n",
              "    <tr>\n",
              "      <th>...</th>\n",
              "      <td>...</td>\n",
              "      <td>...</td>\n",
              "      <td>...</td>\n",
              "      <td>...</td>\n",
              "      <td>...</td>\n",
              "      <td>...</td>\n",
              "      <td>...</td>\n",
              "      <td>...</td>\n",
              "      <td>...</td>\n",
              "      <td>...</td>\n",
              "      <td>...</td>\n",
              "      <td>...</td>\n",
              "      <td>...</td>\n",
              "      <td>...</td>\n",
              "      <td>...</td>\n",
              "      <td>...</td>\n",
              "      <td>...</td>\n",
              "      <td>...</td>\n",
              "    </tr>\n",
              "    <tr>\n",
              "      <th>28377</th>\n",
              "      <td>-0.322544</td>\n",
              "      <td>-2.145672</td>\n",
              "      <td>-3.642122e-01</td>\n",
              "      <td>0.516857</td>\n",
              "      <td>-0.341483</td>\n",
              "      <td>0.299664</td>\n",
              "      <td>0.055232</td>\n",
              "      <td>-0.147989</td>\n",
              "      <td>-0.150939</td>\n",
              "      <td>-0.124972</td>\n",
              "      <td>-0.097284</td>\n",
              "      <td>-0.044542</td>\n",
              "      <td>-0.109852</td>\n",
              "      <td>-0.070374</td>\n",
              "      <td>-0.137420</td>\n",
              "      <td>-0.151656</td>\n",
              "      <td>-0.151271</td>\n",
              "      <td>-0.476950</td>\n",
              "    </tr>\n",
              "    <tr>\n",
              "      <th>28378</th>\n",
              "      <td>1.586625</td>\n",
              "      <td>-0.797900</td>\n",
              "      <td>-3.642122e-01</td>\n",
              "      <td>0.576933</td>\n",
              "      <td>-0.341483</td>\n",
              "      <td>-0.749601</td>\n",
              "      <td>-0.625408</td>\n",
              "      <td>-0.083018</td>\n",
              "      <td>-0.080569</td>\n",
              "      <td>-0.091740</td>\n",
              "      <td>-0.073104</td>\n",
              "      <td>-0.044524</td>\n",
              "      <td>-0.109785</td>\n",
              "      <td>-0.053048</td>\n",
              "      <td>-0.095703</td>\n",
              "      <td>-0.088324</td>\n",
              "      <td>-0.089670</td>\n",
              "      <td>-0.476950</td>\n",
              "    </tr>\n",
              "    <tr>\n",
              "      <th>28379</th>\n",
              "      <td>-1.283961</td>\n",
              "      <td>-0.067857</td>\n",
              "      <td>-3.642122e-01</td>\n",
              "      <td>0.692464</td>\n",
              "      <td>-0.341483</td>\n",
              "      <td>-0.360392</td>\n",
              "      <td>-0.795568</td>\n",
              "      <td>1.364629</td>\n",
              "      <td>1.258467</td>\n",
              "      <td>1.101179</td>\n",
              "      <td>0.332055</td>\n",
              "      <td>0.016006</td>\n",
              "      <td>0.020929</td>\n",
              "      <td>-0.067144</td>\n",
              "      <td>-0.134478</td>\n",
              "      <td>1.275811</td>\n",
              "      <td>1.179984</td>\n",
              "      <td>2.096584</td>\n",
              "    </tr>\n",
              "    <tr>\n",
              "      <th>28380</th>\n",
              "      <td>0.137048</td>\n",
              "      <td>0.100615</td>\n",
              "      <td>2.782460e+00</td>\n",
              "      <td>0.976670</td>\n",
              "      <td>1.172651</td>\n",
              "      <td>-0.695218</td>\n",
              "      <td>-0.430939</td>\n",
              "      <td>-0.135098</td>\n",
              "      <td>-0.138028</td>\n",
              "      <td>-0.139327</td>\n",
              "      <td>-0.118154</td>\n",
              "      <td>-0.044544</td>\n",
              "      <td>-0.109856</td>\n",
              "      <td>-0.070376</td>\n",
              "      <td>-0.137424</td>\n",
              "      <td>-0.138592</td>\n",
              "      <td>-0.138330</td>\n",
              "      <td>-0.476950</td>\n",
              "    </tr>\n",
              "    <tr>\n",
              "      <th>28381</th>\n",
              "      <td>-0.009525</td>\n",
              "      <td>-1.696415</td>\n",
              "      <td>-3.642122e-01</td>\n",
              "      <td>1.006708</td>\n",
              "      <td>-0.341483</td>\n",
              "      <td>-0.481953</td>\n",
              "      <td>-0.078465</td>\n",
              "      <td>-0.123795</td>\n",
              "      <td>-0.109911</td>\n",
              "      <td>-0.102653</td>\n",
              "      <td>-0.060050</td>\n",
              "      <td>-0.044545</td>\n",
              "      <td>-0.109612</td>\n",
              "      <td>-0.056638</td>\n",
              "      <td>-0.092410</td>\n",
              "      <td>-0.120106</td>\n",
              "      <td>-0.099797</td>\n",
              "      <td>2.096584</td>\n",
              "    </tr>\n",
              "  </tbody>\n",
              "</table>\n",
              "<p>28382 rows × 18 columns</p>\n",
              "</div>"
            ],
            "text/plain": [
              "        vintage       age  ...  previous_month_balance     churn\n",
              "0      0.478636  0.999130  ...               -0.142262 -0.476950\n",
              "1     -1.275887 -0.741743  ...                0.030459 -0.476950\n",
              "2     -0.005178 -0.966372  ...               -0.057151 -0.476950\n",
              "3     -1.171547  2.346902  ...               -0.137288  2.096584\n",
              "4      0.103510 -0.348643  ...               -0.137114  2.096584\n",
              "...         ...       ...  ...                     ...       ...\n",
              "28377 -0.322544 -2.145672  ...               -0.151271 -0.476950\n",
              "28378  1.586625 -0.797900  ...               -0.089670 -0.476950\n",
              "28379 -1.283961 -0.067857  ...                1.179984  2.096584\n",
              "28380  0.137048  0.100615  ...               -0.138330 -0.476950\n",
              "28381 -0.009525 -1.696415  ...               -0.099797  2.096584\n",
              "\n",
              "[28382 rows x 18 columns]"
            ]
          },
          "metadata": {
            "tags": []
          },
          "execution_count": 79
        }
      ]
    },
    {
      "cell_type": "code",
      "metadata": {
        "id": "w4dUAy-qABzn"
      },
      "source": [
        "#CORRELATION\n",
        "def corr_coeff(df,x,y):\n",
        "    # we need to calculate the means of the 2 columns\n",
        "    x_bar = df[x].mean()\n",
        "    y_bar = df[y].mean()\n",
        "    \n",
        "    # we need to calculate the sample deviation\n",
        "    x_sd = df[x].std()\n",
        "    y_sd = df[y].std()\n",
        "    \n",
        "    total_prod = (((df[x]-x_bar)/x_sd)*((df[y]-y_bar)/y_sd)).sum()\n",
        "    corr = total_prod/(df.shape[0]-1)\n",
        "    \n",
        "    return corr"
      ],
      "execution_count": null,
      "outputs": []
    },
    {
      "cell_type": "code",
      "metadata": {
        "id": "Dfjz2g_0APAy",
        "colab": {
          "base_uri": "https://localhost:8080/"
        },
        "outputId": "69a6a19b-b6c7-4802-b699-f349a136ad34"
      },
      "source": [
        "corr_coeff(data,'days_since_last_transaction','previous_month_credit')"
      ],
      "execution_count": null,
      "outputs": [
        {
          "output_type": "execute_result",
          "data": {
            "text/plain": [
              "-0.06741365032080225"
            ]
          },
          "metadata": {
            "tags": []
          },
          "execution_count": 5
        }
      ]
    },
    {
      "cell_type": "code",
      "metadata": {
        "id": "nXyM88-0BRZQ",
        "colab": {
          "base_uri": "https://localhost:8080/",
          "height": 720
        },
        "outputId": "ad38097d-1588-4121-f607-e954b79ecbea"
      },
      "source": [
        "import matplotlib.pyplot as plt\n",
        "import seaborn as sns\n",
        "data_corr=data.corr()\n",
        "f,ax=plt.subplots(figsize=(16,9))\n",
        "sns.heatmap(data_corr,cmap='YlGnBu',annot=True)\n",
        "plt.title(\"Correlation between features\",weight='bold',fontsize=18)\n",
        "plt.show()"
      ],
      "execution_count": null,
      "outputs": [
        {
          "output_type": "display_data",
          "data": {
            "image/png": "[encoded data removed]",
            "text/plain": [
              "<Figure size 1152x648 with 2 Axes>"
            ]
          },
          "metadata": {
            "tags": [],
            "needs_background": "light"
          }
        }
      ]
    }
  ]
}